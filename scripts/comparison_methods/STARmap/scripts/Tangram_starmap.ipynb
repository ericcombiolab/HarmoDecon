{
 "cells": [
  {
   "cell_type": "code",
   "execution_count": 1,
   "id": "b376449c",
   "metadata": {},
   "outputs": [],
   "source": [
    "# basic imports\n",
    "import pandas as pd\n",
    "import sys\n",
    "import numpy as np\n",
    "import pandas as pd\n",
    "import scanpy as sc\n",
    "\n",
    "# add `Tangram` to path\n",
    "import tangram as tg"
   ]
  },
  {
   "cell_type": "code",
   "execution_count": 2,
   "id": "f7c6023e",
   "metadata": {},
   "outputs": [
    {
     "name": "stdout",
     "output_type": "stream",
     "text": [
      "1.0.4\n"
     ]
    }
   ],
   "source": [
    "package_version = tg.__version__\n",
    "print(package_version)"
   ]
  },
  {
   "cell_type": "code",
   "execution_count": 5,
   "id": "0f94f345",
   "metadata": {},
   "outputs": [],
   "source": [
    "## setting for STARmap\n",
    "sc_file_path = \"/home/comp/cszrwang/project/Geneformer_test/STARmap/toy/starmap_sc_rna.h5ad\"\n",
    "spatial_file_path = \"/home/comp/cszrwang/project/Geneformer_test/STARmap/toy/starmap_spatial.h5ad\"\n",
    "celltype_key = 'celltype'\n",
    "output_file_path = \"/home/comp/cszrwang/results/Deconvolution/results/STARmap/Tangram/\""
   ]
  },
  {
   "cell_type": "code",
   "execution_count": 6,
   "id": "ec58f014",
   "metadata": {},
   "outputs": [
    {
     "name": "stdout",
     "output_type": "stream",
     "text": [
      "Drop celltype [] contain less 2 sample\n",
      "WARNING: Default of the method has been changed to 't-test' from 't-test_overestim_var'\n",
      "        Astro     Endo Excitatory L2/3   Excitatory L4 Excitatory L5  \\\n",
      "0      Malat1      Bsg          Ppp3ca           Nrxn1         Mgst3   \n",
      "1      Slc1a3    Cldn5            Chn1            Rgs4          Chn1   \n",
      "2       Ntsr2     Ly6e          Fkbp1a           Stx1a          Pcp4   \n",
      "3       Aldoc    Ly6c1          Cacng3           Mef2c         Stmn1   \n",
      "4      Slc1a2     Pltp           Ctxn1          Ppp3ca          Pak1   \n",
      "..        ...      ...             ...             ...           ...   \n",
      "195       Ubc  Tsc22d3           Mat2b           Exph5           Gda   \n",
      "196    Lrrc58     F11r          Spred1           Cadm3        Atp5f1   \n",
      "197   Hsd11b1   Tm4sf1           Sytl2           Ttyh1         Tekt5   \n",
      "198       ND6     Klf4        Il1rapl1  X9130024F11Rik       Zdhhc23   \n",
      "199  Tmem176a  Slc38a3           Cadm1            Gas7         Dgat2   \n",
      "\n",
      "    Excitatory L6 Inhibitory Other Inhibitory Pvalb Inhibitory Sst  \\\n",
      "0           Ctxn1            Rab3c             Mdh1          Rab3b   \n",
      "1          Dynll1             Gad1           Atp1b1          Nrsn2   \n",
      "2            Ldha             Dner            Cplx1          Nxph1   \n",
      "3          Igsf21             Gad2             Got1         Tmem91   \n",
      "4          Hpcal4            Fgf13            Cend1          Zwint   \n",
      "..            ...              ...              ...            ...   \n",
      "195         Cdipt            Rragb           Ndufa3         Ndufv2   \n",
      "196        Vps26a            Rexo2           Gm5499         Akr1a1   \n",
      "197         Gng13           Pcsk1n          Fam210b          Itfg1   \n",
      "198        Rab40b         Baiap2l2            Ube2m          Eif1a   \n",
      "199           Cck         Serpini1             Lgi2          Gapdh   \n",
      "\n",
      "    Inhibitory Vip    Micro  Neuron Other            Olig         Other  \\\n",
      "0            Ap1s2     C1qc         H3f3b            Pllp         Itm2b   \n",
      "1             Tcf4     C1qb         Cpne6             Dbi        Ifitm2   \n",
      "2           Nap1l5   Tmsb4x        Tuba1a              Qk       Laptm4a   \n",
      "3              Vip     C1qa        Pcp4l1          Malat1           Ptn   \n",
      "4             Igf1   Tyrobp         Pcbp3         Tsc22d4          Cd63   \n",
      "..             ...      ...           ...             ...           ...   \n",
      "195           Krt1    Lpar6          Pax6             Mag       C1qtnf2   \n",
      "196         Igfbp5     Snx5         Gdpd5  X5031439G07Rik          Gja1   \n",
      "197          Elfn1    Ppcdc          Ubl3          Slain1  LOC102638773   \n",
      "198          Cxx1a  Sh3glb1  LOC105246395         Stxbp3a       Sparcl1   \n",
      "199         Gm1821  Gm15531        Ankra2          Elovl7        Sec11a   \n",
      "\n",
      "                Smc  \n",
      "0              Myl9  \n",
      "1             Acta2  \n",
      "2             Tagln  \n",
      "3              Tpm2  \n",
      "4              Myl6  \n",
      "..              ...  \n",
      "195           Actn4  \n",
      "196  X4930523C07Rik  \n",
      "197           H3f3c  \n",
      "198           Myadm  \n",
      "199             Oat  \n",
      "\n",
      "[200 rows x 15 columns]\n",
      "['A330050F15Rik' 'A530058N18Rik' 'A830009L08Rik' ... 'Zmat2' 'Zmat4'\n",
      " 'Zwint']\n"
     ]
    }
   ],
   "source": [
    "ad_sc = sc.read_h5ad(sc_file_path)\n",
    "ad_sp = sc.read_h5ad(spatial_file_path)\n",
    "\n",
    "# use raw count both of scrna and spatial\n",
    "sc.pp.normalize_total(ad_sc)\n",
    "celltype_counts = ad_sc.obs[celltype_key].value_counts()\n",
    "celltype_drop = celltype_counts.index[celltype_counts < 2]\n",
    "print(f'Drop celltype {list(celltype_drop)} contain less 2 sample')\n",
    "ad_sc = ad_sc[~ad_sc.obs[celltype_key].isin(celltype_drop),].copy()\n",
    "sc.tl.rank_genes_groups(ad_sc, groupby=celltype_key, use_raw=False)\n",
    "markers_df = pd.DataFrame(ad_sc.uns[\"rank_genes_groups\"][\"names\"]).iloc[0:200, :]\n",
    "print(markers_df)\n",
    "genes_sc = np.unique(markers_df.melt().value.values)\n",
    "print(genes_sc)\n",
    "genes_st = ad_sp.var_names.values\n",
    "genes = list(set(genes_sc).intersection(set(genes_st)))"
   ]
  },
  {
   "cell_type": "code",
   "execution_count": 7,
   "id": "59b5e787",
   "metadata": {},
   "outputs": [
    {
     "name": "stderr",
     "output_type": "stream",
     "text": [
      "INFO:root:459 training genes are saved in `uns``training_genes` of both single cell and spatial Anndatas.\n",
      "INFO:root:882 overlapped genes are saved in `uns``overlap_genes` of both single cell and spatial Anndatas.\n",
      "INFO:root:uniform based density prior is calculated and saved in `obs``uniform_density` of the spatial Anndata.\n",
      "INFO:root:rna count based density prior is calculated and saved in `obs``rna_count_based_density` of the spatial Anndata.\n",
      "INFO:root:Allocate tensors for mapping.\n",
      "INFO:root:Begin training with 459 genes and rna_count_based density_prior in clusters mode...\n",
      "INFO:root:Printing scores every 100 epochs.\n"
     ]
    },
    {
     "name": "stdout",
     "output_type": "stream",
     "text": [
      "Score: 0.613, KL reg: 0.173\n",
      "Score: 0.797, KL reg: 0.001\n",
      "Score: 0.797, KL reg: 0.001\n",
      "Score: 0.797, KL reg: 0.001\n",
      "Score: 0.797, KL reg: 0.001\n",
      "Score: 0.798, KL reg: 0.001\n",
      "Score: 0.798, KL reg: 0.001\n",
      "Score: 0.798, KL reg: 0.001\n",
      "Score: 0.798, KL reg: 0.001\n",
      "Score: 0.798, KL reg: 0.001\n"
     ]
    },
    {
     "name": "stderr",
     "output_type": "stream",
     "text": [
      "INFO:root:Saving results..\n",
      "INFO:root:spatial prediction dataframe is saved in `obsm` `tangram_ct_pred` of the spatial AnnData.\n"
     ]
    }
   ],
   "source": [
    "tg.pp_adatas(ad_sc, ad_sp, genes=genes)\n",
    "\n",
    "ad_map = tg.map_cells_to_space(\n",
    "                   ad_sc,\n",
    "                   ad_sp,\n",
    "                   mode='clusters',\n",
    "                   cluster_label=celltype_key)\n",
    "\n",
    "tg.project_cell_annotations(ad_map, ad_sp, annotation=celltype_key)\n",
    "\n",
    "celltype_density = ad_sp.obsm['tangram_ct_pred']\n",
    "celltype_density = (celltype_density.T/celltype_density.sum(axis=1)).T\n",
    "\n",
    "celltype_density.to_csv(output_file_path + '/Tangram_result.csv')"
   ]
  }
 ],
 "metadata": {
  "kernelspec": {
   "display_name": "dl_transformers",
   "language": "python",
   "name": "dl_transformers"
  },
  "language_info": {
   "codemirror_mode": {
    "name": "ipython",
    "version": 3
   },
   "file_extension": ".py",
   "mimetype": "text/x-python",
   "name": "python",
   "nbconvert_exporter": "python",
   "pygments_lexer": "ipython3",
   "version": "3.9.2"
  }
 },
 "nbformat": 4,
 "nbformat_minor": 5
}
