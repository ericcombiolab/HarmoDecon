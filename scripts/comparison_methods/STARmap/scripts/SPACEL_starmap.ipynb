{
 "cells": [
  {
   "cell_type": "code",
   "execution_count": 1,
   "id": "5df422e2",
   "metadata": {},
   "outputs": [],
   "source": [
    "import os\n",
    "\n",
    "os.environ['R_HOME'] = '/home/comp/cszrwang/anaconda3/envs/SPACEL/lib/R'"
   ]
  },
  {
   "cell_type": "code",
   "execution_count": 2,
   "id": "47e1f809",
   "metadata": {},
   "outputs": [
    {
     "name": "stdout",
     "output_type": "stream",
     "text": [
      "Setting environment seed: 42\n"
     ]
    },
    {
     "name": "stderr",
     "output_type": "stream",
     "text": [
      "/home/comp/cszrwang/anaconda3/envs/SPACEL/lib/python3.8/site-packages/tqdm/auto.py:21: TqdmWarning: IProgress not found. Please update jupyter and ipywidgets. See https://ipywidgets.readthedocs.io/en/stable/user_install.html\n",
      "  from .autonotebook import tqdm as notebook_tqdm\n",
      "Global seed set to 0\n"
     ]
    }
   ],
   "source": [
    "from SPACEL.setting import set_environ_seed\n",
    "set_environ_seed()\n",
    "from SPACEL import Spoint\n",
    "import scanpy as sc\n",
    "import numpy as np\n",
    "import matplotlib\n",
    "matplotlib.rcParams['pdf.fonttype'] = 42\n",
    "matplotlib.rcParams['ps.fonttype'] = 42\n",
    "matplotlib.rcParams['font.serif'] = ['Arial']\n",
    "sc.settings.set_figure_params(dpi=50,dpi_save=300,facecolor='white',fontsize=10,vector_friendly=True,figsize=(3,3))\n",
    "sc.settings.verbosity = 3"
   ]
  },
  {
   "cell_type": "code",
   "execution_count": 3,
   "id": "6f5ec0da",
   "metadata": {},
   "outputs": [],
   "source": [
    "sc_ad = sc.read_h5ad('/home/comp/cszrwang/project/Geneformer_test/STARmap/toy/starmap_sc_rna.h5ad')\n",
    "st_ad = sc.read_h5ad('/home/comp/cszrwang/project/Geneformer_test/STARmap/toy/starmap_spatial.h5ad')\n",
    "\n",
    "sc.pp.filter_genes(st_ad,min_cells=1)\n",
    "sc.pp.filter_genes(sc_ad,min_cells=1)\n",
    "sc.pp.filter_cells(st_ad,min_genes=1)\n",
    "sc.pp.filter_cells(sc_ad,min_genes=1)"
   ]
  },
  {
   "cell_type": "code",
   "execution_count": 4,
   "id": "c3c6e30b",
   "metadata": {},
   "outputs": [
    {
     "name": "stdout",
     "output_type": "stream",
     "text": [
      "Setting global seed: 42\n",
      "normalizing counts per cell\n",
      "    finished (0:00:00)\n",
      "normalizing counts per cell\n",
      "    finished (0:00:00)\n",
      "### Finding marker genes...\n",
      "ranking genes\n",
      "    finished: added to `.uns['rank_genes_groups']`\n",
      "    'names', sorted np.recarray to be indexed by group ids\n",
      "    'scores', sorted np.recarray to be indexed by group ids\n",
      "    'logfoldchanges', sorted np.recarray to be indexed by group ids\n",
      "    'pvals', sorted np.recarray to be indexed by group ids\n",
      "    'pvals_adj', sorted np.recarray to be indexed by group ids (0:00:00)\n",
      "celltype\n",
      "Excitatory L2/3     200\n",
      "Excitatory L6       200\n",
      "Excitatory L5       197\n",
      "Excitatory L4       190\n",
      "Inhibitory Other    185\n",
      "Inhibitory Sst      178\n",
      "Inhibitory Pvalb    174\n",
      "Inhibitory Vip      170\n",
      "Astro               156\n",
      "Other               120\n",
      "Endo                107\n",
      "Olig                 97\n",
      "Smc                  94\n",
      "Micro                57\n",
      "Neuron Other         51\n",
      "Name: count, dtype: int64\n",
      "### Used gene numbers: 791\n",
      "### Initializing sample probability\n",
      "### Genetating simulated spatial data using scRNA data with mode: unbalance\n",
      "### Genetating simulated spatial data using scRNA data with mode: sqrt\n",
      "### Genetating simulated spatial data using scRNA data with mode: balance\n"
     ]
    }
   ],
   "source": [
    "spoint_model = Spoint.init_model(sc_ad,st_ad,celltype_key='celltype',deg_method='t-test',sm_size=100000,use_gpu=True)"
   ]
  },
  {
   "cell_type": "code",
   "execution_count": 5,
   "id": "6a61f07a",
   "metadata": {},
   "outputs": [
    {
     "name": "stderr",
     "output_type": "stream",
     "text": [
      "/home/comp/cszrwang/anaconda3/envs/SPACEL/lib/python3.8/site-packages/anndata/_core/anndata.py:1838: UserWarning: Observation names are not unique. To make them unique, call `.obs_names_make_unique`.\n",
      "  utils.warn_names_duplicates(\"obs\")\n",
      "No GPU/TPU found, falling back to CPU. (Set TF_CPP_MIN_LOG_LEVEL=0 and rerun for more info.)\n",
      "GPU available: True (cuda), used: True\n",
      "TPU available: False, using: 0 TPU cores\n",
      "IPU available: False, using: 0 IPUs\n",
      "HPU available: False, using: 0 HPUs\n",
      "You are using a CUDA device ('NVIDIA A100 80GB PCIe') that has Tensor Cores. To properly utilize them, you should set `torch.set_float32_matmul_precision('medium' | 'high')` which will trade-off precision for performance. For more details, read https://pytorch.org/docs/stable/generated/torch.set_float32_matmul_precision.html#torch.set_float32_matmul_precision\n",
      "LOCAL_RANK: 0 - CUDA_VISIBLE_DEVICES: [0,1]\n"
     ]
    },
    {
     "name": "stdout",
     "output_type": "stream",
     "text": [
      "Epoch 100/100: 100%|██████████████████████████████████████████████████████████████████████████████████████████| 100/100 [01:05<00:00,  1.29it/s, loss=1.12e+03, v_num=1]"
     ]
    },
    {
     "name": "stderr",
     "output_type": "stream",
     "text": [
      "`Trainer.fit` stopped: `max_epochs=100` reached.\n"
     ]
    },
    {
     "name": "stdout",
     "output_type": "stream",
     "text": [
      "Epoch 100/100: 100%|██████████████████████████████████████████████████████████████████████████████████████████| 100/100 [01:05<00:00,  1.53it/s, loss=1.12e+03, v_num=1]\n"
     ]
    },
    {
     "name": "stderr",
     "output_type": "stream",
     "text": [
      "Step 5000: Test inference loss=-0.954: 100%|████████████████████████████████████████████████████████████████████████████████████████| 5000/5000 [14:29<00:00,  5.75it/s]\n"
     ]
    }
   ],
   "source": [
    "spoint_model.train(max_steps=5000, batch_size=1024)"
   ]
  },
  {
   "cell_type": "code",
   "execution_count": 6,
   "id": "5e711cdb",
   "metadata": {},
   "outputs": [],
   "source": [
    "pre = spoint_model.deconv_spatial()"
   ]
  },
  {
   "cell_type": "code",
   "execution_count": 7,
   "id": "4afc4c4c",
   "metadata": {},
   "outputs": [
    {
     "data": {
      "text/html": [
       "<div>\n",
       "<style scoped>\n",
       "    .dataframe tbody tr th:only-of-type {\n",
       "        vertical-align: middle;\n",
       "    }\n",
       "\n",
       "    .dataframe tbody tr th {\n",
       "        vertical-align: top;\n",
       "    }\n",
       "\n",
       "    .dataframe thead th {\n",
       "        text-align: right;\n",
       "    }\n",
       "</style>\n",
       "<table border=\"1\" class=\"dataframe\">\n",
       "  <thead>\n",
       "    <tr style=\"text-align: right;\">\n",
       "      <th></th>\n",
       "      <th>Excitatory L6</th>\n",
       "      <th>Excitatory L5</th>\n",
       "      <th>Inhibitory Sst</th>\n",
       "      <th>Inhibitory Vip</th>\n",
       "      <th>Excitatory L4</th>\n",
       "      <th>Inhibitory Pvalb</th>\n",
       "      <th>Inhibitory Other</th>\n",
       "      <th>Excitatory L2/3</th>\n",
       "      <th>Astro</th>\n",
       "      <th>Other</th>\n",
       "      <th>Endo</th>\n",
       "      <th>Olig</th>\n",
       "      <th>Smc</th>\n",
       "      <th>Neuron Other</th>\n",
       "      <th>Micro</th>\n",
       "    </tr>\n",
       "  </thead>\n",
       "  <tbody>\n",
       "    <tr>\n",
       "      <th>0</th>\n",
       "      <td>0.018493</td>\n",
       "      <td>0.157463</td>\n",
       "      <td>0.232316</td>\n",
       "      <td>0.124256</td>\n",
       "      <td>0.069572</td>\n",
       "      <td>0.000000</td>\n",
       "      <td>0.00000</td>\n",
       "      <td>0.146563</td>\n",
       "      <td>0.235930</td>\n",
       "      <td>0.000000</td>\n",
       "      <td>0.000000</td>\n",
       "      <td>0.000000</td>\n",
       "      <td>0.0</td>\n",
       "      <td>0.000000</td>\n",
       "      <td>0.000000</td>\n",
       "    </tr>\n",
       "    <tr>\n",
       "      <th>1</th>\n",
       "      <td>0.012688</td>\n",
       "      <td>0.148688</td>\n",
       "      <td>0.125041</td>\n",
       "      <td>0.095403</td>\n",
       "      <td>0.045554</td>\n",
       "      <td>0.011230</td>\n",
       "      <td>0.00000</td>\n",
       "      <td>0.000000</td>\n",
       "      <td>0.196703</td>\n",
       "      <td>0.000000</td>\n",
       "      <td>0.000000</td>\n",
       "      <td>0.212110</td>\n",
       "      <td>0.0</td>\n",
       "      <td>0.128060</td>\n",
       "      <td>0.000000</td>\n",
       "    </tr>\n",
       "    <tr>\n",
       "      <th>2</th>\n",
       "      <td>0.012105</td>\n",
       "      <td>0.141982</td>\n",
       "      <td>0.102010</td>\n",
       "      <td>0.029656</td>\n",
       "      <td>0.021296</td>\n",
       "      <td>0.080212</td>\n",
       "      <td>0.00000</td>\n",
       "      <td>0.036500</td>\n",
       "      <td>0.124397</td>\n",
       "      <td>0.000000</td>\n",
       "      <td>0.000000</td>\n",
       "      <td>0.297346</td>\n",
       "      <td>0.0</td>\n",
       "      <td>0.125063</td>\n",
       "      <td>0.012616</td>\n",
       "    </tr>\n",
       "    <tr>\n",
       "      <th>3</th>\n",
       "      <td>0.012672</td>\n",
       "      <td>0.065212</td>\n",
       "      <td>0.040479</td>\n",
       "      <td>0.016490</td>\n",
       "      <td>0.046567</td>\n",
       "      <td>0.107553</td>\n",
       "      <td>0.00000</td>\n",
       "      <td>0.050642</td>\n",
       "      <td>0.268064</td>\n",
       "      <td>0.013997</td>\n",
       "      <td>0.019665</td>\n",
       "      <td>0.260509</td>\n",
       "      <td>0.0</td>\n",
       "      <td>0.087453</td>\n",
       "      <td>0.000000</td>\n",
       "    </tr>\n",
       "    <tr>\n",
       "      <th>4</th>\n",
       "      <td>0.190349</td>\n",
       "      <td>0.192449</td>\n",
       "      <td>0.145434</td>\n",
       "      <td>0.015815</td>\n",
       "      <td>0.019646</td>\n",
       "      <td>0.000000</td>\n",
       "      <td>0.00000</td>\n",
       "      <td>0.064641</td>\n",
       "      <td>0.037834</td>\n",
       "      <td>0.000000</td>\n",
       "      <td>0.033817</td>\n",
       "      <td>0.147529</td>\n",
       "      <td>0.0</td>\n",
       "      <td>0.122577</td>\n",
       "      <td>0.016697</td>\n",
       "    </tr>\n",
       "    <tr>\n",
       "      <th>...</th>\n",
       "      <td>...</td>\n",
       "      <td>...</td>\n",
       "      <td>...</td>\n",
       "      <td>...</td>\n",
       "      <td>...</td>\n",
       "      <td>...</td>\n",
       "      <td>...</td>\n",
       "      <td>...</td>\n",
       "      <td>...</td>\n",
       "      <td>...</td>\n",
       "      <td>...</td>\n",
       "      <td>...</td>\n",
       "      <td>...</td>\n",
       "      <td>...</td>\n",
       "      <td>...</td>\n",
       "    </tr>\n",
       "    <tr>\n",
       "      <th>184</th>\n",
       "      <td>0.000000</td>\n",
       "      <td>0.155735</td>\n",
       "      <td>0.102002</td>\n",
       "      <td>0.000000</td>\n",
       "      <td>0.108587</td>\n",
       "      <td>0.133010</td>\n",
       "      <td>0.11568</td>\n",
       "      <td>0.159632</td>\n",
       "      <td>0.132735</td>\n",
       "      <td>0.000000</td>\n",
       "      <td>0.000000</td>\n",
       "      <td>0.043573</td>\n",
       "      <td>0.0</td>\n",
       "      <td>0.012766</td>\n",
       "      <td>0.016981</td>\n",
       "    </tr>\n",
       "    <tr>\n",
       "      <th>185</th>\n",
       "      <td>0.000000</td>\n",
       "      <td>0.000000</td>\n",
       "      <td>0.011519</td>\n",
       "      <td>0.076179</td>\n",
       "      <td>0.058111</td>\n",
       "      <td>0.000000</td>\n",
       "      <td>0.00000</td>\n",
       "      <td>0.440815</td>\n",
       "      <td>0.182619</td>\n",
       "      <td>0.000000</td>\n",
       "      <td>0.000000</td>\n",
       "      <td>0.015461</td>\n",
       "      <td>0.0</td>\n",
       "      <td>0.168171</td>\n",
       "      <td>0.022926</td>\n",
       "    </tr>\n",
       "    <tr>\n",
       "      <th>186</th>\n",
       "      <td>0.000000</td>\n",
       "      <td>0.010306</td>\n",
       "      <td>0.000000</td>\n",
       "      <td>0.189908</td>\n",
       "      <td>0.486748</td>\n",
       "      <td>0.000000</td>\n",
       "      <td>0.00000</td>\n",
       "      <td>0.000000</td>\n",
       "      <td>0.210841</td>\n",
       "      <td>0.000000</td>\n",
       "      <td>0.000000</td>\n",
       "      <td>0.013559</td>\n",
       "      <td>0.0</td>\n",
       "      <td>0.000000</td>\n",
       "      <td>0.081069</td>\n",
       "    </tr>\n",
       "    <tr>\n",
       "      <th>187</th>\n",
       "      <td>0.076745</td>\n",
       "      <td>0.023762</td>\n",
       "      <td>0.000000</td>\n",
       "      <td>0.183184</td>\n",
       "      <td>0.000000</td>\n",
       "      <td>0.000000</td>\n",
       "      <td>0.00000</td>\n",
       "      <td>0.000000</td>\n",
       "      <td>0.451990</td>\n",
       "      <td>0.000000</td>\n",
       "      <td>0.000000</td>\n",
       "      <td>0.245038</td>\n",
       "      <td>0.0</td>\n",
       "      <td>0.000000</td>\n",
       "      <td>0.000000</td>\n",
       "    </tr>\n",
       "    <tr>\n",
       "      <th>188</th>\n",
       "      <td>0.206282</td>\n",
       "      <td>0.000000</td>\n",
       "      <td>0.066335</td>\n",
       "      <td>0.108532</td>\n",
       "      <td>0.000000</td>\n",
       "      <td>0.000000</td>\n",
       "      <td>0.00000</td>\n",
       "      <td>0.000000</td>\n",
       "      <td>0.277149</td>\n",
       "      <td>0.263933</td>\n",
       "      <td>0.000000</td>\n",
       "      <td>0.047166</td>\n",
       "      <td>0.0</td>\n",
       "      <td>0.000000</td>\n",
       "      <td>0.000000</td>\n",
       "    </tr>\n",
       "  </tbody>\n",
       "</table>\n",
       "<p>189 rows × 15 columns</p>\n",
       "</div>"
      ],
      "text/plain": [
       "     Excitatory L6  Excitatory L5  Inhibitory Sst  Inhibitory Vip  \\\n",
       "0         0.018493       0.157463        0.232316        0.124256   \n",
       "1         0.012688       0.148688        0.125041        0.095403   \n",
       "2         0.012105       0.141982        0.102010        0.029656   \n",
       "3         0.012672       0.065212        0.040479        0.016490   \n",
       "4         0.190349       0.192449        0.145434        0.015815   \n",
       "..             ...            ...             ...             ...   \n",
       "184       0.000000       0.155735        0.102002        0.000000   \n",
       "185       0.000000       0.000000        0.011519        0.076179   \n",
       "186       0.000000       0.010306        0.000000        0.189908   \n",
       "187       0.076745       0.023762        0.000000        0.183184   \n",
       "188       0.206282       0.000000        0.066335        0.108532   \n",
       "\n",
       "     Excitatory L4  Inhibitory Pvalb  Inhibitory Other  Excitatory L2/3  \\\n",
       "0         0.069572          0.000000           0.00000         0.146563   \n",
       "1         0.045554          0.011230           0.00000         0.000000   \n",
       "2         0.021296          0.080212           0.00000         0.036500   \n",
       "3         0.046567          0.107553           0.00000         0.050642   \n",
       "4         0.019646          0.000000           0.00000         0.064641   \n",
       "..             ...               ...               ...              ...   \n",
       "184       0.108587          0.133010           0.11568         0.159632   \n",
       "185       0.058111          0.000000           0.00000         0.440815   \n",
       "186       0.486748          0.000000           0.00000         0.000000   \n",
       "187       0.000000          0.000000           0.00000         0.000000   \n",
       "188       0.000000          0.000000           0.00000         0.000000   \n",
       "\n",
       "        Astro     Other      Endo      Olig  Smc  Neuron Other     Micro  \n",
       "0    0.235930  0.000000  0.000000  0.000000  0.0      0.000000  0.000000  \n",
       "1    0.196703  0.000000  0.000000  0.212110  0.0      0.128060  0.000000  \n",
       "2    0.124397  0.000000  0.000000  0.297346  0.0      0.125063  0.012616  \n",
       "3    0.268064  0.013997  0.019665  0.260509  0.0      0.087453  0.000000  \n",
       "4    0.037834  0.000000  0.033817  0.147529  0.0      0.122577  0.016697  \n",
       "..        ...       ...       ...       ...  ...           ...       ...  \n",
       "184  0.132735  0.000000  0.000000  0.043573  0.0      0.012766  0.016981  \n",
       "185  0.182619  0.000000  0.000000  0.015461  0.0      0.168171  0.022926  \n",
       "186  0.210841  0.000000  0.000000  0.013559  0.0      0.000000  0.081069  \n",
       "187  0.451990  0.000000  0.000000  0.245038  0.0      0.000000  0.000000  \n",
       "188  0.277149  0.263933  0.000000  0.047166  0.0      0.000000  0.000000  \n",
       "\n",
       "[189 rows x 15 columns]"
      ]
     },
     "execution_count": 7,
     "metadata": {},
     "output_type": "execute_result"
    }
   ],
   "source": [
    "pre"
   ]
  },
  {
   "cell_type": "code",
   "execution_count": 8,
   "id": "305748ad",
   "metadata": {},
   "outputs": [],
   "source": [
    "output_file_path = \"/home/comp/cszrwang/results/Deconvolution/results/STARmap/SPACEL/\""
   ]
  },
  {
   "cell_type": "code",
   "execution_count": 9,
   "id": "f30893d3",
   "metadata": {},
   "outputs": [],
   "source": [
    "pre.to_csv(output_file_path + '/SPACEL_result.csv')"
   ]
  },
  {
   "cell_type": "code",
   "execution_count": 10,
   "id": "18667a50",
   "metadata": {},
   "outputs": [],
   "source": [
    "st_ad_show = spoint_model.st_ad"
   ]
  },
  {
   "cell_type": "code",
   "execution_count": 11,
   "id": "8073e42d",
   "metadata": {},
   "outputs": [
    {
     "data": {
      "text/plain": [
       "AnnData object with n_obs × n_vars = 189 × 791\n",
       "    obs: 'n_genes', 'batch', 'Excitatory L6', 'Excitatory L5', 'Inhibitory Sst', 'Inhibitory Vip', 'Excitatory L4', 'Inhibitory Pvalb', 'Inhibitory Other', 'Excitatory L2/3', 'Astro', 'Other', 'Endo', 'Olig', 'Smc', 'Neuron Other', 'Micro'\n",
       "    var: 'n_cells'\n",
       "    uns: 'celltypes'\n",
       "    layers: 'norm'"
      ]
     },
     "execution_count": 11,
     "metadata": {},
     "output_type": "execute_result"
    }
   ],
   "source": [
    "st_ad_show"
   ]
  },
  {
   "cell_type": "code",
   "execution_count": 12,
   "id": "72539ae5",
   "metadata": {},
   "outputs": [
    {
     "ename": "KeyError",
     "evalue": "\"Could not find 'spatial' or 'X_spatial' in .obsm\"",
     "output_type": "error",
     "traceback": [
      "\u001b[0;31m---------------------------------------------------------------------------\u001b[0m",
      "\u001b[0;31mKeyError\u001b[0m                                  Traceback (most recent call last)",
      "Cell \u001b[0;32mIn[12], line 1\u001b[0m\n\u001b[0;32m----> 1\u001b[0m \u001b[43msc\u001b[49m\u001b[38;5;241;43m.\u001b[39;49m\u001b[43mpl\u001b[49m\u001b[38;5;241;43m.\u001b[39;49m\u001b[43membedding\u001b[49m\u001b[43m(\u001b[49m\u001b[43mst_ad_show\u001b[49m\u001b[43m,\u001b[49m\u001b[43mcolor\u001b[49m\u001b[38;5;241;43m=\u001b[39;49m\u001b[43mpre\u001b[49m\u001b[38;5;241;43m.\u001b[39;49m\u001b[43mcolumns\u001b[49m\u001b[43m[\u001b[49m\u001b[43m:\u001b[49m\u001b[38;5;241;43m20\u001b[39;49m\u001b[43m]\u001b[49m\u001b[43m,\u001b[49m\u001b[43mbasis\u001b[49m\u001b[38;5;241;43m=\u001b[39;49m\u001b[38;5;124;43m'\u001b[39;49m\u001b[38;5;124;43mspatial\u001b[39;49m\u001b[38;5;124;43m'\u001b[39;49m\u001b[43m,\u001b[49m\u001b[43mncols\u001b[49m\u001b[38;5;241;43m=\u001b[39;49m\u001b[38;5;241;43m5\u001b[39;49m\u001b[43m)\u001b[49m\n",
      "File \u001b[0;32m~/anaconda3/envs/SPACEL/lib/python3.8/site-packages/scanpy/plotting/_tools/scatterplots.py:135\u001b[0m, in \u001b[0;36membedding\u001b[0;34m(adata, basis, color, gene_symbols, use_raw, sort_order, edges, edges_width, edges_color, neighbors_key, arrows, arrows_kwds, groups, components, dimensions, layer, projection, scale_factor, color_map, cmap, palette, na_color, na_in_legend, size, frameon, legend_fontsize, legend_fontweight, legend_loc, legend_fontoutline, colorbar_loc, vmax, vmin, vcenter, norm, add_outline, outline_width, outline_color, ncols, hspace, wspace, title, show, save, ax, return_fig, **kwargs)\u001b[0m\n\u001b[1;32m    132\u001b[0m check_projection(projection)\n\u001b[1;32m    133\u001b[0m sanitize_anndata(adata)\n\u001b[0;32m--> 135\u001b[0m basis_values \u001b[38;5;241m=\u001b[39m \u001b[43m_get_basis\u001b[49m\u001b[43m(\u001b[49m\u001b[43madata\u001b[49m\u001b[43m,\u001b[49m\u001b[43m \u001b[49m\u001b[43mbasis\u001b[49m\u001b[43m)\u001b[49m\n\u001b[1;32m    136\u001b[0m dimensions \u001b[38;5;241m=\u001b[39m _components_to_dimensions(\n\u001b[1;32m    137\u001b[0m     components, dimensions, projection\u001b[38;5;241m=\u001b[39mprojection, total_dims\u001b[38;5;241m=\u001b[39mbasis_values\u001b[38;5;241m.\u001b[39mshape[\u001b[38;5;241m1\u001b[39m]\n\u001b[1;32m    138\u001b[0m )\n\u001b[1;32m    139\u001b[0m args_3d \u001b[38;5;241m=\u001b[39m \u001b[38;5;28mdict\u001b[39m(projection\u001b[38;5;241m=\u001b[39m\u001b[38;5;124m'\u001b[39m\u001b[38;5;124m3d\u001b[39m\u001b[38;5;124m'\u001b[39m) \u001b[38;5;28;01mif\u001b[39;00m projection \u001b[38;5;241m==\u001b[39m \u001b[38;5;124m'\u001b[39m\u001b[38;5;124m3d\u001b[39m\u001b[38;5;124m'\u001b[39m \u001b[38;5;28;01melse\u001b[39;00m {}\n",
      "File \u001b[0;32m~/anaconda3/envs/SPACEL/lib/python3.8/site-packages/scanpy/plotting/_tools/scatterplots.py:1165\u001b[0m, in \u001b[0;36m_get_basis\u001b[0;34m(adata, basis)\u001b[0m\n\u001b[1;32m   1163\u001b[0m     \u001b[38;5;28;01mreturn\u001b[39;00m adata\u001b[38;5;241m.\u001b[39mobsm[\u001b[38;5;124mf\u001b[39m\u001b[38;5;124m\"\u001b[39m\u001b[38;5;124mX_\u001b[39m\u001b[38;5;132;01m{\u001b[39;00mbasis\u001b[38;5;132;01m}\u001b[39;00m\u001b[38;5;124m\"\u001b[39m]\n\u001b[1;32m   1164\u001b[0m \u001b[38;5;28;01melse\u001b[39;00m:\n\u001b[0;32m-> 1165\u001b[0m     \u001b[38;5;28;01mraise\u001b[39;00m \u001b[38;5;167;01mKeyError\u001b[39;00m(\u001b[38;5;124mf\u001b[39m\u001b[38;5;124m\"\u001b[39m\u001b[38;5;124mCould not find \u001b[39m\u001b[38;5;124m'\u001b[39m\u001b[38;5;132;01m{\u001b[39;00mbasis\u001b[38;5;132;01m}\u001b[39;00m\u001b[38;5;124m'\u001b[39m\u001b[38;5;124m or \u001b[39m\u001b[38;5;124m'\u001b[39m\u001b[38;5;124mX_\u001b[39m\u001b[38;5;132;01m{\u001b[39;00mbasis\u001b[38;5;132;01m}\u001b[39;00m\u001b[38;5;124m'\u001b[39m\u001b[38;5;124m in .obsm\u001b[39m\u001b[38;5;124m\"\u001b[39m)\n",
      "\u001b[0;31mKeyError\u001b[0m: \"Could not find 'spatial' or 'X_spatial' in .obsm\""
     ]
    }
   ],
   "source": [
    "sc.pl.embedding(st_ad_show,color=pre.columns[:20],basis='spatial',ncols=5)"
   ]
  }
 ],
 "metadata": {
  "kernelspec": {
   "display_name": "SPACEL",
   "language": "python",
   "name": "spacel"
  },
  "language_info": {
   "codemirror_mode": {
    "name": "ipython",
    "version": 3
   },
   "file_extension": ".py",
   "mimetype": "text/x-python",
   "name": "python",
   "nbconvert_exporter": "python",
   "pygments_lexer": "ipython3",
   "version": "3.8.18"
  }
 },
 "nbformat": 4,
 "nbformat_minor": 5
}
