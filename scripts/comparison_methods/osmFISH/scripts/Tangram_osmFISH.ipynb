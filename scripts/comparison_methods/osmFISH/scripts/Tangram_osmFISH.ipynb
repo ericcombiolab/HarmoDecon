{
 "cells": [
  {
   "cell_type": "code",
   "execution_count": 1,
   "id": "c0fdc79d",
   "metadata": {},
   "outputs": [],
   "source": [
    "# basic imports\n",
    "import pandas as pd\n",
    "import sys\n",
    "import numpy as np\n",
    "import pandas as pd\n",
    "import scanpy as sc\n",
    "\n",
    "# add `Tangram` to path\n",
    "import tangram as tg"
   ]
  },
  {
   "cell_type": "code",
   "execution_count": 2,
   "id": "5387bd74",
   "metadata": {},
   "outputs": [],
   "source": [
    "## setting for STARmap\n",
    "sc_file_path = \"/home/comp/cszrwang/data/osmfish/sc_osm.h5ad\"\n",
    "spatial_file_path = \"/home/comp/cszrwang/data/osmfish/st_osm.h5ad\"\n",
    "celltype_key = 'celltype'\n",
    "output_file_path = \"/home/comp/cszrwang/results/Deconvolution/results/osmFISH/Tangram/\""
   ]
  },
  {
   "cell_type": "code",
   "execution_count": 3,
   "id": "3796f39d",
   "metadata": {},
   "outputs": [
    {
     "name": "stdout",
     "output_type": "stream",
     "text": [
      "Drop celltype [] contain less 2 sample\n",
      "WARNING: Default of the method has been changed to 't-test' from 't-test_overestim_var'\n",
      "   L2/3 IT CTX-1 L4/5 IT CTX L5 IT CTX L5 NP CTX L5 PT CTX L6 CT CTX  \\\n",
      "0          Lamp5        Rorb     Aldoc     Aldoc     Lamp5      Syt6   \n",
      "1           Anln      Kcnip2      Cnr1      Hexb     Aldoc      Tbr1   \n",
      "2          Sox10       Lamp5      Ctps      Ctps      Cnr1      Hexb   \n",
      "3          Cpne5         Ttr      Rorb      Rorb  Serpinf1    Kcnip2   \n",
      "4            Ttr    Serpinf1      Tbr1     Itpr2      Anln       Vtn   \n",
      "5          Foxj1      Pdgfra      Hexb      Mrc1     Acta2      Ctps   \n",
      "6           Gfap       Foxj1     Tmem2     Tmem2     Tmem2     Itpr2   \n",
      "7       Serpinf1        Plp1      Plp1      Gfap      Apln      Apln   \n",
      "8           Apln        Gfap  Serpinf1      Flt1       Ttr      Flt1   \n",
      "9          Acta2       Tmem2     Itpr2  Serpinf1    Pdgfra      Plp1   \n",
      "10        Pdgfra       Mfge8      Mrc1     Acta2     Mfge8     Aldoc   \n",
      "11           Vtn       Sox10    Pdgfra       Vtn      Gfap     Foxj1   \n",
      "12         Mfge8        Mrc1     Cpne5      Tbr1     Foxj1     Mfge8   \n",
      "13         Crhbp         Vtn     Acta2     Mfge8      Mrc1     Acta2   \n",
      "14           Crh        Apln       Ttr      Anln     Sox10      Mrc1   \n",
      "15          Flt1       Acta2     Foxj1       Ttr      Plp1     Tmem2   \n",
      "16          Bmp4        Anln      Gfap    Pdgfra       Vtn     Sox10   \n",
      "17          Plp1       Pthlh      Anln     Sox10     Pthlh  Serpinf1   \n",
      "18         Itpr2        Flt1    Kcnip2      Plp1      Hexb      Gfap   \n",
      "19         Tmem2        Bmp4      Flt1      Apln      Rorb       Ttr   \n",
      "20        Kcnip2       Crhbp     Sox10     Foxj1      Bmp4      Bmp4   \n",
      "21          Cnr1       Itpr2       Vtn      Bmp4      Flt1    Pdgfra   \n",
      "22          Mrc1         Crh     Pthlh     Crhbp     Itpr2     Pthlh   \n",
      "23         Pthlh        Ctps     Mfge8     Pthlh     Crhbp      Anln   \n",
      "24       Slc32a1        Cnr1      Apln       Crh      Ctps     Cpne5   \n",
      "25           Vip     Slc32a1       Crh   Slc32a1      Syt6     Crhbp   \n",
      "26          Gad2         Vip      Bmp4    Kcnip2       Crh      Cnr1   \n",
      "27          Syt6       Aldoc     Crhbp       Vip   Slc32a1       Crh   \n",
      "28          Hexb        Gad2   Slc32a1      Syt6       Vip   Slc32a1   \n",
      "29         Aldoc        Hexb       Vip     Cpne5      Gad2     Lamp5   \n",
      "30          Ctps        Syt6      Gad2      Gad2     Cpne5       Vip   \n",
      "31          Rorb        Tbr1     Lamp5      Cnr1      Tbr1      Gad2   \n",
      "32          Tbr1       Cpne5      Syt6     Lamp5    Kcnip2      Rorb   \n",
      "\n",
      "   L6 IT CTX   L6b CTX     Lamp5       Sst       Vip  \n",
      "0      Cpne5      Tbr1      Gad2      Gad2       Vip  \n",
      "1       Cnr1      Ctps   Slc32a1   Slc32a1     Pthlh  \n",
      "2     Kcnip2      Hexb      Bmp4     Crhbp       Crh  \n",
      "3       Hexb      Syt6     Lamp5      Cnr1   Slc32a1  \n",
      "4       Tbr1     Itpr2      Cnr1       Crh      Gad2  \n",
      "5       Ctps      Flt1     Pthlh      Anln    Pdgfra  \n",
      "6      Tmem2      Mrc1      Flt1  Serpinf1      Bmp4  \n",
      "7      Aldoc     Mfge8    Pdgfra     Sox10     Mfge8  \n",
      "8      Itpr2     Acta2      Anln     Itpr2  Serpinf1  \n",
      "9       Plp1       Crh  Serpinf1     Mfge8      Gfap  \n",
      "10      Mrc1      Plp1      Gfap     Acta2     Sox10  \n",
      "11     Sox10    Pdgfra     Foxj1      Plp1       Vtn  \n",
      "12     Foxj1     Foxj1       Crh      Bmp4      Apln  \n",
      "13  Serpinf1     Tmem2       Vip     Tmem2     Acta2  \n",
      "14       Ttr      Apln     Sox10       Ttr      Cnr1  \n",
      "15      Gfap      Gfap       Ttr      Gfap       Ttr  \n",
      "16     Acta2      Bmp4       Vtn     Cpne5     Foxj1  \n",
      "17      Apln       Ttr      Apln      Flt1      Anln  \n",
      "18      Anln  Serpinf1     Acta2    Pdgfra     Crhbp  \n",
      "19       Vtn     Aldoc     Itpr2       Vtn      Flt1  \n",
      "20     Mfge8     Sox10     Mfge8      Apln      Plp1  \n",
      "21    Pdgfra      Anln     Crhbp      Mrc1     Itpr2  \n",
      "22      Bmp4       Vtn      Plp1     Foxj1      Mrc1  \n",
      "23      Flt1     Pthlh      Mrc1      Ctps      Syt6  \n",
      "24     Crhbp     Crhbp     Tmem2      Hexb     Tmem2  \n",
      "25     Pthlh     Cpne5     Aldoc     Pthlh     Aldoc  \n",
      "26       Crh   Slc32a1      Syt6     Aldoc     Cpne5  \n",
      "27   Slc32a1       Vip      Ctps       Vip      Rorb  \n",
      "28       Vip      Gad2     Cpne5      Syt6      Hexb  \n",
      "29      Gad2     Lamp5      Hexb    Kcnip2      Ctps  \n",
      "30      Syt6    Kcnip2      Rorb      Rorb    Kcnip2  \n",
      "31     Lamp5      Cnr1    Kcnip2      Tbr1      Tbr1  \n",
      "32      Rorb      Rorb      Tbr1     Lamp5     Lamp5  \n",
      "['Acta2' 'Aldoc' 'Anln' 'Apln' 'Bmp4' 'Cnr1' 'Cpne5' 'Crh' 'Crhbp' 'Ctps'\n",
      " 'Flt1' 'Foxj1' 'Gad2' 'Gfap' 'Hexb' 'Itpr2' 'Kcnip2' 'Lamp5' 'Mfge8'\n",
      " 'Mrc1' 'Pdgfra' 'Plp1' 'Pthlh' 'Rorb' 'Serpinf1' 'Slc32a1' 'Sox10' 'Syt6'\n",
      " 'Tbr1' 'Tmem2' 'Ttr' 'Vip' 'Vtn']\n"
     ]
    }
   ],
   "source": [
    "ad_sc = sc.read_h5ad(sc_file_path)\n",
    "ad_sp = sc.read_h5ad(spatial_file_path)\n",
    "\n",
    "# use raw count both of scrna and spatial\n",
    "sc.pp.normalize_total(ad_sc)\n",
    "celltype_counts = ad_sc.obs[celltype_key].value_counts()\n",
    "celltype_drop = celltype_counts.index[celltype_counts < 2]\n",
    "print(f'Drop celltype {list(celltype_drop)} contain less 2 sample')\n",
    "ad_sc = ad_sc[~ad_sc.obs[celltype_key].isin(celltype_drop),].copy()\n",
    "sc.tl.rank_genes_groups(ad_sc, groupby=celltype_key, use_raw=False)\n",
    "markers_df = pd.DataFrame(ad_sc.uns[\"rank_genes_groups\"][\"names\"]).iloc[0:200, :]\n",
    "print(markers_df)\n",
    "genes_sc = np.unique(markers_df.melt().value.values)\n",
    "print(genes_sc)\n",
    "genes_st = ad_sp.var_names.values\n",
    "genes = list(set(genes_sc).intersection(set(genes_st)))"
   ]
  },
  {
   "cell_type": "code",
   "execution_count": 4,
   "id": "c60e0506",
   "metadata": {},
   "outputs": [
    {
     "name": "stderr",
     "output_type": "stream",
     "text": [
      "INFO:root:33 training genes are saved in `uns``training_genes` of both single cell and spatial Anndatas.\n",
      "INFO:root:33 overlapped genes are saved in `uns``overlap_genes` of both single cell and spatial Anndatas.\n",
      "INFO:root:uniform based density prior is calculated and saved in `obs``uniform_density` of the spatial Anndata.\n",
      "INFO:root:rna count based density prior is calculated and saved in `obs``rna_count_based_density` of the spatial Anndata.\n",
      "INFO:root:Allocate tensors for mapping.\n",
      "INFO:root:Begin training with 33 genes and rna_count_based density_prior in clusters mode...\n",
      "INFO:root:Printing scores every 100 epochs.\n"
     ]
    },
    {
     "name": "stdout",
     "output_type": "stream",
     "text": [
      "Score: 0.513, KL reg: 0.268\n",
      "Score: 0.824, KL reg: 0.002\n",
      "Score: 0.826, KL reg: 0.002\n",
      "Score: 0.826, KL reg: 0.002\n",
      "Score: 0.826, KL reg: 0.002\n",
      "Score: 0.826, KL reg: 0.002\n",
      "Score: 0.827, KL reg: 0.002\n",
      "Score: 0.827, KL reg: 0.002\n",
      "Score: 0.827, KL reg: 0.002\n",
      "Score: 0.827, KL reg: 0.002\n"
     ]
    },
    {
     "name": "stderr",
     "output_type": "stream",
     "text": [
      "INFO:root:Saving results..\n",
      "INFO:root:spatial prediction dataframe is saved in `obsm` `tangram_ct_pred` of the spatial AnnData.\n"
     ]
    }
   ],
   "source": [
    "tg.pp_adatas(ad_sc, ad_sp, genes=genes)\n",
    "\n",
    "ad_map = tg.map_cells_to_space(\n",
    "                   ad_sc,\n",
    "                   ad_sp,\n",
    "                   mode='clusters',\n",
    "                   cluster_label=celltype_key,)\n",
    "\n",
    "\n",
    "tg.project_cell_annotations(ad_map, ad_sp, annotation=celltype_key)\n",
    "\n",
    "celltype_density = ad_sp.obsm['tangram_ct_pred']\n",
    "celltype_density = (celltype_density.T/celltype_density.sum(axis=1)).T\n",
    "\n",
    "celltype_density.to_csv(output_file_path + '/Tangram_result.csv')"
   ]
  }
 ],
 "metadata": {
  "kernelspec": {
   "display_name": "dl_transformers",
   "language": "python",
   "name": "dl_transformers"
  },
  "language_info": {
   "codemirror_mode": {
    "name": "ipython",
    "version": 3
   },
   "file_extension": ".py",
   "mimetype": "text/x-python",
   "name": "python",
   "nbconvert_exporter": "python",
   "pygments_lexer": "ipython3",
   "version": "3.9.2"
  }
 },
 "nbformat": 4,
 "nbformat_minor": 5
}
