{
 "cells": [
  {
   "cell_type": "code",
   "execution_count": 1,
   "id": "5df422e2",
   "metadata": {},
   "outputs": [],
   "source": [
    "import os\n",
    "\n",
    "os.environ['R_HOME'] = '/home/comp/cszrwang/anaconda3/envs/SPACEL/lib/R'"
   ]
  },
  {
   "cell_type": "code",
   "execution_count": 2,
   "id": "47e1f809",
   "metadata": {},
   "outputs": [
    {
     "name": "stdout",
     "output_type": "stream",
     "text": [
      "Setting environment seed: 42\n"
     ]
    },
    {
     "name": "stderr",
     "output_type": "stream",
     "text": [
      "/home/comp/cszrwang/anaconda3/envs/SPACEL/lib/python3.8/site-packages/tqdm/auto.py:21: TqdmWarning: IProgress not found. Please update jupyter and ipywidgets. See https://ipywidgets.readthedocs.io/en/stable/user_install.html\n",
      "  from .autonotebook import tqdm as notebook_tqdm\n",
      "Global seed set to 0\n"
     ]
    }
   ],
   "source": [
    "from SPACEL.setting import set_environ_seed\n",
    "set_environ_seed()\n",
    "from SPACEL import Spoint\n",
    "import scanpy as sc\n",
    "import numpy as np\n",
    "import matplotlib\n",
    "matplotlib.rcParams['pdf.fonttype'] = 42\n",
    "matplotlib.rcParams['ps.fonttype'] = 42\n",
    "matplotlib.rcParams['font.serif'] = ['Arial']\n",
    "sc.settings.set_figure_params(dpi=50,dpi_save=300,facecolor='white',fontsize=10,vector_friendly=True,figsize=(3,3))\n",
    "sc.settings.verbosity = 3"
   ]
  },
  {
   "cell_type": "code",
   "execution_count": 3,
   "id": "6f5ec0da",
   "metadata": {},
   "outputs": [],
   "source": [
    "sc_ad = sc.read_h5ad('/home/comp/cszrwang/data/osmfish/sc_osm.h5ad')\n",
    "st_ad = sc.read_h5ad('/home/comp/cszrwang/data/osmfish/st_osm.h5ad')\n",
    "\n",
    "sc.pp.filter_genes(st_ad,min_cells=1)\n",
    "sc.pp.filter_genes(sc_ad,min_cells=1)\n",
    "sc.pp.filter_cells(st_ad,min_genes=1)\n",
    "sc.pp.filter_cells(sc_ad,min_genes=1)"
   ]
  },
  {
   "cell_type": "code",
   "execution_count": 4,
   "id": "32ffbfac",
   "metadata": {},
   "outputs": [
    {
     "data": {
      "text/plain": [
       "F2S4_160722_001_A01              Vip\n",
       "F2S4_160722_001_B01              Vip\n",
       "F2S4_160722_001_C01        L5 NP CTX\n",
       "F2S4_160722_001_D01      L4/5 IT CTX\n",
       "F2S4_160722_001_E01              Sst\n",
       "                           ...      \n",
       "F2S4_181129_012_D01      L4/5 IT CTX\n",
       "F2S4_181129_012_E01    L2/3 IT CTX-1\n",
       "F2S4_181129_012_F01    L2/3 IT CTX-1\n",
       "F2S4_181129_012_G01      L4/5 IT CTX\n",
       "F2S4_181129_012_H01    L2/3 IT CTX-1\n",
       "Name: celltype, Length: 5392, dtype: category\n",
       "Categories (11, object): ['L2/3 IT CTX-1', 'L4/5 IT CTX', 'L5 IT CTX', 'L5 NP CTX', ..., 'L6b CTX', 'Lamp5', 'Sst', 'Vip']"
      ]
     },
     "execution_count": 4,
     "metadata": {},
     "output_type": "execute_result"
    }
   ],
   "source": [
    "sc_ad.obs['celltype']"
   ]
  },
  {
   "cell_type": "code",
   "execution_count": 5,
   "id": "c3c6e30b",
   "metadata": {},
   "outputs": [
    {
     "name": "stdout",
     "output_type": "stream",
     "text": [
      "Setting global seed: 42\n",
      "normalizing counts per cell\n",
      "    finished (0:00:00)\n",
      "normalizing counts per cell\n",
      "    finished (0:00:00)\n",
      "### Finding marker genes...\n",
      "ranking genes\n",
      "    finished: added to `.uns['rank_genes_groups']`\n",
      "    'names', sorted np.recarray to be indexed by group ids\n",
      "    'scores', sorted np.recarray to be indexed by group ids\n",
      "    'logfoldchanges', sorted np.recarray to be indexed by group ids\n",
      "    'pvals', sorted np.recarray to be indexed by group ids\n",
      "    'pvals_adj', sorted np.recarray to be indexed by group ids (0:00:01)\n",
      "celltype\n",
      "L6 IT CTX        12\n",
      "Vip               9\n",
      "L5 IT CTX         8\n",
      "L6 CT CTX         8\n",
      "L6b CTX           8\n",
      "L5 PT CTX         6\n",
      "Lamp5             6\n",
      "Sst               6\n",
      "L2/3 IT CTX-1     5\n",
      "L5 NP CTX         5\n",
      "L4/5 IT CTX       4\n",
      "Name: count, dtype: int64\n",
      "### Used gene numbers: 27\n",
      "### Initializing sample probability\n",
      "### Genetating simulated spatial data using scRNA data with mode: unbalance\n",
      "### Genetating simulated spatial data using scRNA data with mode: sqrt\n",
      "### Genetating simulated spatial data using scRNA data with mode: balance\n"
     ]
    }
   ],
   "source": [
    "spoint_model = Spoint.init_model(sc_ad,st_ad,celltype_key='celltype',deg_method='t-test',sm_size=100000,use_gpu=True)"
   ]
  },
  {
   "cell_type": "code",
   "execution_count": 6,
   "id": "6a61f07a",
   "metadata": {},
   "outputs": [
    {
     "name": "stderr",
     "output_type": "stream",
     "text": [
      "No GPU/TPU found, falling back to CPU. (Set TF_CPP_MIN_LOG_LEVEL=0 and rerun for more info.)\n",
      "GPU available: True (cuda), used: True\n",
      "TPU available: False, using: 0 TPU cores\n",
      "IPU available: False, using: 0 IPUs\n",
      "HPU available: False, using: 0 HPUs\n",
      "You are using a CUDA device ('NVIDIA A100 80GB PCIe') that has Tensor Cores. To properly utilize them, you should set `torch.set_float32_matmul_precision('medium' | 'high')` which will trade-off precision for performance. For more details, read https://pytorch.org/docs/stable/generated/torch.set_float32_matmul_precision.html#torch.set_float32_matmul_precision\n",
      "LOCAL_RANK: 0 - CUDA_VISIBLE_DEVICES: [0,1]\n"
     ]
    },
    {
     "name": "stdout",
     "output_type": "stream",
     "text": [
      "Epoch 100/100: 100%|██████████████████████████████████████████████████████████████████████████████████████████████| 100/100 [00:47<00:00,  2.30it/s, loss=56.1, v_num=1]"
     ]
    },
    {
     "name": "stderr",
     "output_type": "stream",
     "text": [
      "`Trainer.fit` stopped: `max_epochs=100` reached.\n"
     ]
    },
    {
     "name": "stdout",
     "output_type": "stream",
     "text": [
      "Epoch 100/100: 100%|██████████████████████████████████████████████████████████████████████████████████████████████| 100/100 [00:47<00:00,  2.09it/s, loss=56.1, v_num=1]\n"
     ]
    },
    {
     "name": "stderr",
     "output_type": "stream",
     "text": [
      "Step 5000: Test inference loss=-0.827: 100%|████████████████████████████████████████████████████████████████████████████████████████| 5000/5000 [26:04<00:00,  3.20it/s]\n"
     ]
    }
   ],
   "source": [
    "spoint_model.train(max_steps=5000, batch_size=1024)"
   ]
  },
  {
   "cell_type": "code",
   "execution_count": 7,
   "id": "5e711cdb",
   "metadata": {},
   "outputs": [],
   "source": [
    "pre = spoint_model.deconv_spatial()"
   ]
  },
  {
   "cell_type": "code",
   "execution_count": 8,
   "id": "4afc4c4c",
   "metadata": {},
   "outputs": [
    {
     "data": {
      "text/html": [
       "<div>\n",
       "<style scoped>\n",
       "    .dataframe tbody tr th:only-of-type {\n",
       "        vertical-align: middle;\n",
       "    }\n",
       "\n",
       "    .dataframe tbody tr th {\n",
       "        vertical-align: top;\n",
       "    }\n",
       "\n",
       "    .dataframe thead th {\n",
       "        text-align: right;\n",
       "    }\n",
       "</style>\n",
       "<table border=\"1\" class=\"dataframe\">\n",
       "  <thead>\n",
       "    <tr style=\"text-align: right;\">\n",
       "      <th></th>\n",
       "      <th>L4/5 IT CTX</th>\n",
       "      <th>L2/3 IT CTX-1</th>\n",
       "      <th>L6 IT CTX</th>\n",
       "      <th>L6b CTX</th>\n",
       "      <th>L6 CT CTX</th>\n",
       "      <th>Vip</th>\n",
       "      <th>L5 IT CTX</th>\n",
       "      <th>L5 NP CTX</th>\n",
       "      <th>Lamp5</th>\n",
       "      <th>Sst</th>\n",
       "      <th>L5 PT CTX</th>\n",
       "    </tr>\n",
       "  </thead>\n",
       "  <tbody>\n",
       "    <tr>\n",
       "      <th>400_27600</th>\n",
       "      <td>0.000000</td>\n",
       "      <td>0.000000</td>\n",
       "      <td>0.000000</td>\n",
       "      <td>0.614960</td>\n",
       "      <td>0.000000</td>\n",
       "      <td>0.000000</td>\n",
       "      <td>0.018927</td>\n",
       "      <td>0.263828</td>\n",
       "      <td>0.000000</td>\n",
       "      <td>0.083419</td>\n",
       "      <td>0.000000</td>\n",
       "    </tr>\n",
       "    <tr>\n",
       "      <th>400_28400</th>\n",
       "      <td>0.000000</td>\n",
       "      <td>0.000000</td>\n",
       "      <td>0.073008</td>\n",
       "      <td>0.272808</td>\n",
       "      <td>0.032709</td>\n",
       "      <td>0.101838</td>\n",
       "      <td>0.070577</td>\n",
       "      <td>0.326145</td>\n",
       "      <td>0.000000</td>\n",
       "      <td>0.117198</td>\n",
       "      <td>0.000000</td>\n",
       "    </tr>\n",
       "    <tr>\n",
       "      <th>400_29200</th>\n",
       "      <td>0.000000</td>\n",
       "      <td>0.000000</td>\n",
       "      <td>0.120079</td>\n",
       "      <td>0.486872</td>\n",
       "      <td>0.017581</td>\n",
       "      <td>0.068789</td>\n",
       "      <td>0.079357</td>\n",
       "      <td>0.100509</td>\n",
       "      <td>0.000000</td>\n",
       "      <td>0.124220</td>\n",
       "      <td>0.000000</td>\n",
       "    </tr>\n",
       "    <tr>\n",
       "      <th>400_30000</th>\n",
       "      <td>0.010734</td>\n",
       "      <td>0.000000</td>\n",
       "      <td>0.011383</td>\n",
       "      <td>0.295445</td>\n",
       "      <td>0.085279</td>\n",
       "      <td>0.150979</td>\n",
       "      <td>0.109916</td>\n",
       "      <td>0.294775</td>\n",
       "      <td>0.000000</td>\n",
       "      <td>0.024704</td>\n",
       "      <td>0.000000</td>\n",
       "    </tr>\n",
       "    <tr>\n",
       "      <th>400_30800</th>\n",
       "      <td>0.000000</td>\n",
       "      <td>0.000000</td>\n",
       "      <td>0.000000</td>\n",
       "      <td>0.255340</td>\n",
       "      <td>0.016824</td>\n",
       "      <td>0.028511</td>\n",
       "      <td>0.084095</td>\n",
       "      <td>0.593992</td>\n",
       "      <td>0.000000</td>\n",
       "      <td>0.000000</td>\n",
       "      <td>0.000000</td>\n",
       "    </tr>\n",
       "    <tr>\n",
       "      <th>...</th>\n",
       "      <td>...</td>\n",
       "      <td>...</td>\n",
       "      <td>...</td>\n",
       "      <td>...</td>\n",
       "      <td>...</td>\n",
       "      <td>...</td>\n",
       "      <td>...</td>\n",
       "      <td>...</td>\n",
       "      <td>...</td>\n",
       "      <td>...</td>\n",
       "      <td>...</td>\n",
       "    </tr>\n",
       "    <tr>\n",
       "      <th>22800_34000</th>\n",
       "      <td>0.191567</td>\n",
       "      <td>0.098156</td>\n",
       "      <td>0.014083</td>\n",
       "      <td>0.261966</td>\n",
       "      <td>0.036161</td>\n",
       "      <td>0.060540</td>\n",
       "      <td>0.089702</td>\n",
       "      <td>0.073568</td>\n",
       "      <td>0.041807</td>\n",
       "      <td>0.013941</td>\n",
       "      <td>0.118509</td>\n",
       "    </tr>\n",
       "    <tr>\n",
       "      <th>22800_34800</th>\n",
       "      <td>0.029986</td>\n",
       "      <td>0.049019</td>\n",
       "      <td>0.176367</td>\n",
       "      <td>0.194773</td>\n",
       "      <td>0.081687</td>\n",
       "      <td>0.167577</td>\n",
       "      <td>0.102780</td>\n",
       "      <td>0.059392</td>\n",
       "      <td>0.098221</td>\n",
       "      <td>0.028987</td>\n",
       "      <td>0.011211</td>\n",
       "    </tr>\n",
       "    <tr>\n",
       "      <th>22800_35600</th>\n",
       "      <td>0.084392</td>\n",
       "      <td>0.080134</td>\n",
       "      <td>0.039309</td>\n",
       "      <td>0.171902</td>\n",
       "      <td>0.168909</td>\n",
       "      <td>0.158903</td>\n",
       "      <td>0.072166</td>\n",
       "      <td>0.057551</td>\n",
       "      <td>0.088849</td>\n",
       "      <td>0.021165</td>\n",
       "      <td>0.056721</td>\n",
       "    </tr>\n",
       "    <tr>\n",
       "      <th>22800_37200</th>\n",
       "      <td>0.000000</td>\n",
       "      <td>0.000000</td>\n",
       "      <td>0.000000</td>\n",
       "      <td>0.474036</td>\n",
       "      <td>0.000000</td>\n",
       "      <td>0.029162</td>\n",
       "      <td>0.032877</td>\n",
       "      <td>0.384955</td>\n",
       "      <td>0.000000</td>\n",
       "      <td>0.056823</td>\n",
       "      <td>0.000000</td>\n",
       "    </tr>\n",
       "    <tr>\n",
       "      <th>23600_37200</th>\n",
       "      <td>0.000000</td>\n",
       "      <td>0.000000</td>\n",
       "      <td>0.000000</td>\n",
       "      <td>0.535944</td>\n",
       "      <td>0.026417</td>\n",
       "      <td>0.041030</td>\n",
       "      <td>0.035195</td>\n",
       "      <td>0.329784</td>\n",
       "      <td>0.010906</td>\n",
       "      <td>0.000000</td>\n",
       "      <td>0.000000</td>\n",
       "    </tr>\n",
       "  </tbody>\n",
       "</table>\n",
       "<p>737 rows × 11 columns</p>\n",
       "</div>"
      ],
      "text/plain": [
       "             L4/5 IT CTX  L2/3 IT CTX-1  L6 IT CTX   L6b CTX  L6 CT CTX  \\\n",
       "400_27600       0.000000       0.000000   0.000000  0.614960   0.000000   \n",
       "400_28400       0.000000       0.000000   0.073008  0.272808   0.032709   \n",
       "400_29200       0.000000       0.000000   0.120079  0.486872   0.017581   \n",
       "400_30000       0.010734       0.000000   0.011383  0.295445   0.085279   \n",
       "400_30800       0.000000       0.000000   0.000000  0.255340   0.016824   \n",
       "...                  ...            ...        ...       ...        ...   \n",
       "22800_34000     0.191567       0.098156   0.014083  0.261966   0.036161   \n",
       "22800_34800     0.029986       0.049019   0.176367  0.194773   0.081687   \n",
       "22800_35600     0.084392       0.080134   0.039309  0.171902   0.168909   \n",
       "22800_37200     0.000000       0.000000   0.000000  0.474036   0.000000   \n",
       "23600_37200     0.000000       0.000000   0.000000  0.535944   0.026417   \n",
       "\n",
       "                  Vip  L5 IT CTX  L5 NP CTX     Lamp5       Sst  L5 PT CTX  \n",
       "400_27600    0.000000   0.018927   0.263828  0.000000  0.083419   0.000000  \n",
       "400_28400    0.101838   0.070577   0.326145  0.000000  0.117198   0.000000  \n",
       "400_29200    0.068789   0.079357   0.100509  0.000000  0.124220   0.000000  \n",
       "400_30000    0.150979   0.109916   0.294775  0.000000  0.024704   0.000000  \n",
       "400_30800    0.028511   0.084095   0.593992  0.000000  0.000000   0.000000  \n",
       "...               ...        ...        ...       ...       ...        ...  \n",
       "22800_34000  0.060540   0.089702   0.073568  0.041807  0.013941   0.118509  \n",
       "22800_34800  0.167577   0.102780   0.059392  0.098221  0.028987   0.011211  \n",
       "22800_35600  0.158903   0.072166   0.057551  0.088849  0.021165   0.056721  \n",
       "22800_37200  0.029162   0.032877   0.384955  0.000000  0.056823   0.000000  \n",
       "23600_37200  0.041030   0.035195   0.329784  0.010906  0.000000   0.000000  \n",
       "\n",
       "[737 rows x 11 columns]"
      ]
     },
     "execution_count": 8,
     "metadata": {},
     "output_type": "execute_result"
    }
   ],
   "source": [
    "pre"
   ]
  },
  {
   "cell_type": "code",
   "execution_count": 14,
   "id": "305748ad",
   "metadata": {},
   "outputs": [],
   "source": [
    "output_file_path = \"/home/comp/cszrwang/results/Deconvolution/results/osmFISH//SPACEL/\""
   ]
  },
  {
   "cell_type": "code",
   "execution_count": 15,
   "id": "f30893d3",
   "metadata": {},
   "outputs": [],
   "source": [
    "pre.to_csv(output_file_path + '/SPACEL_result.csv')"
   ]
  },
  {
   "cell_type": "code",
   "execution_count": 12,
   "id": "18667a50",
   "metadata": {},
   "outputs": [],
   "source": [
    "st_ad_show = spoint_model.st_ad"
   ]
  },
  {
   "cell_type": "code",
   "execution_count": 13,
   "id": "8073e42d",
   "metadata": {},
   "outputs": [
    {
     "data": {
      "text/plain": [
       "AnnData object with n_obs × n_vars = 737 × 27\n",
       "    obs: 'index', 'x', 'y', 'n_genes', 'batch', 'L4/5 IT CTX', 'L2/3 IT CTX-1', 'L6 IT CTX', 'L6b CTX', 'L6 CT CTX', 'Vip', 'L5 IT CTX', 'L5 NP CTX', 'Lamp5', 'Sst', 'L5 PT CTX'\n",
       "    var: 'n_cells'\n",
       "    uns: 'celltypes'\n",
       "    layers: 'norm'"
      ]
     },
     "execution_count": 13,
     "metadata": {},
     "output_type": "execute_result"
    }
   ],
   "source": [
    "st_ad_show"
   ]
  }
 ],
 "metadata": {
  "kernelspec": {
   "display_name": "SPACEL",
   "language": "python",
   "name": "spacel"
  },
  "language_info": {
   "codemirror_mode": {
    "name": "ipython",
    "version": 3
   },
   "file_extension": ".py",
   "mimetype": "text/x-python",
   "name": "python",
   "nbconvert_exporter": "python",
   "pygments_lexer": "ipython3",
   "version": "3.8.18"
  }
 },
 "nbformat": 4,
 "nbformat_minor": 5
}
