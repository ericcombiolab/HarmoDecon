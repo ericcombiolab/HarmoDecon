{
 "cells": [
  {
   "cell_type": "markdown",
   "id": "a271f018",
   "metadata": {},
   "source": [
    "##  https://github.com/QuKunLab/SpatialBenchmarking"
   ]
  },
  {
   "cell_type": "code",
   "execution_count": 1,
   "id": "9f5d6255",
   "metadata": {},
   "outputs": [],
   "source": [
    "import warnings\n",
    "# Filter out warning messages\n",
    "warnings.filterwarnings(\"ignore\")"
   ]
  },
  {
   "cell_type": "code",
   "execution_count": 2,
   "id": "fd472120",
   "metadata": {},
   "outputs": [],
   "source": [
    "import sys\n",
    "import scanpy as sc\n",
    "import anndata\n",
    "import pandas as pd\n",
    "import numpy as np\n",
    "import matplotlib.pyplot as plt\n",
    "import matplotlib as mpl\n",
    "import subprocess\n",
    "\n",
    "import os\n",
    "\n",
    "import cell2location\n",
    "import scvi\n",
    "\n",
    "from matplotlib import rcParams\n",
    "rcParams['pdf.fonttype'] = 42 # enables correct plotting of text\n",
    "import seaborn as sns\n",
    "from scipy.sparse import csr_matrix\n",
    "from cell2location.utils.filtering import filter_genes"
   ]
  },
  {
   "cell_type": "code",
   "execution_count": 3,
   "id": "cf09ac6a",
   "metadata": {},
   "outputs": [],
   "source": [
    "## setting for STARmap\n",
    "sc_file_path = \"/home/comp/cszrwang/data/osmfish/sc_osm.h5ad\"\n",
    "spatial_file_path = \"/home/comp/cszrwang/data/osmfish/st_osm.h5ad\"\n",
    "celltype_key = 'celltype'\n",
    "output_file_path = \"/home/comp/cszrwang/results/Deconvolution/results/osmFISH/Cell2location/\""
   ]
  },
  {
   "cell_type": "code",
   "execution_count": 4,
   "id": "fb5f05b9",
   "metadata": {},
   "outputs": [
    {
     "data": {
      "image/png": "[encoded data removed]",
      "text/plain": [
       "<Figure size 640x480 with 1 Axes>"
      ]
     },
     "metadata": {},
     "output_type": "display_data"
    }
   ],
   "source": [
    "adata_snrna_raw = sc.read_h5ad(sc_file_path)\n",
    "adata_vis = sc.read_h5ad(spatial_file_path)\n",
    "adata_snrna_raw.X = csr_matrix(adata_snrna_raw.X)\n",
    "adata_vis.X = csr_matrix(adata_vis.X)\n",
    "\n",
    "adata_snrna_raw = adata_snrna_raw[~adata_snrna_raw.obs[celltype_key].isin(np.array(adata_snrna_raw.obs[celltype_key].value_counts()[adata_snrna_raw.obs[celltype_key].value_counts() <=1].index))]\n",
    "\n",
    "# remove cells and genes with 0 counts everywhere\n",
    "sc.pp.filter_genes(adata_snrna_raw,min_cells=1)\n",
    "sc.pp.filter_cells(adata_snrna_raw,min_genes=1)\n",
    "\n",
    "adata_snrna_raw.obs[celltype_key] = pd.Categorical(adata_snrna_raw.obs[celltype_key])\n",
    "adata_snrna_raw = adata_snrna_raw[~adata_snrna_raw.obs[celltype_key].isna(), :]\n",
    "\n",
    "selected = filter_genes(adata_snrna_raw, cell_count_cutoff=5, cell_percentage_cutoff2=0.03, nonz_mean_cutoff=1.12)\n",
    "\n",
    "# filter the object\n",
    "adata_snrna_raw = adata_snrna_raw[:, selected].copy()"
   ]
  },
  {
   "cell_type": "code",
   "execution_count": 5,
   "id": "a221ce3a",
   "metadata": {},
   "outputs": [],
   "source": [
    "if adata_snrna_raw.X.dtype != int:\n",
    "#     adata_snrna_raw.X = (adata_snrna_raw.X * 1000).astype(int)\n",
    "    adata_snrna_raw.X = (adata_snrna_raw.X).astype(int)"
   ]
  },
  {
   "cell_type": "code",
   "execution_count": 6,
   "id": "7e0a1d49",
   "metadata": {},
   "outputs": [
    {
     "name": "stderr",
     "output_type": "stream",
     "text": [
      "No GPU/TPU found, falling back to CPU. (Set TF_CPP_MIN_LOG_LEVEL=0 and rerun for more info.)\n",
      "GPU available: True (cuda), used: True\n",
      "TPU available: False, using: 0 TPU cores\n",
      "IPU available: False, using: 0 IPUs\n",
      "HPU available: False, using: 0 HPUs\n",
      "You are using a CUDA device ('NVIDIA A100 80GB PCIe') that has Tensor Cores. To properly utilize them, you should set `torch.set_float32_matmul_precision('medium' | 'high')` which will trade-off precision for performance. For more details, read https://pytorch.org/docs/stable/generated/torch.set_float32_matmul_precision.html#torch.set_float32_matmul_precision\n",
      "LOCAL_RANK: 0 - CUDA_VISIBLE_DEVICES: [0,1]\n"
     ]
    },
    {
     "name": "stdout",
     "output_type": "stream",
     "text": [
      "Epoch 250/250: 100%|█████████████████████████████████████████████████████████████████████████████████████| 250/250 [01:01<00:00,  3.75it/s, v_num=1, elbo_train=4.77e+5]"
     ]
    },
    {
     "name": "stderr",
     "output_type": "stream",
     "text": [
      "`Trainer.fit` stopped: `max_epochs=250` reached.\n"
     ]
    },
    {
     "name": "stdout",
     "output_type": "stream",
     "text": [
      "Epoch 250/250: 100%|█████████████████████████████████████████████████████████████████████████████████████| 250/250 [01:01<00:00,  4.05it/s, v_num=1, elbo_train=4.77e+5]\n",
      "Sampling local variables, batch:   0%|                                                                                                            | 0/3 [00:00<?, ?it/s]\n",
      "Sampling global variables, sample: 100%|██████████████████████████████████████████████████████████████████████████████████████████████| 999/999 [00:17<00:00, 58.25it/s]\n"
     ]
    }
   ],
   "source": [
    "# create and train the regression model\n",
    "from cell2location.models import RegressionModel\n",
    "\n",
    "RegressionModel.setup_anndata(adata=adata_snrna_raw,labels_key=celltype_key)\n",
    "\n",
    "mod = RegressionModel(adata_snrna_raw)\n",
    "\n",
    "# Use all data for training (validation not implemented yet, train_size=1)\n",
    "mod.train(max_epochs=250, batch_size=2500, train_size=1, lr=0.002, use_gpu=True)\n",
    "\n",
    "# plot ELBO loss history during training, removing first 20 epochs from the plot\n",
    "#mod.plot_history(20)\n",
    "\n",
    "# In this section, we export the estimated cell abundance (summary of the posterior distribution).\n",
    "adata_snrna_raw = mod.export_posterior(\n",
    "    adata_snrna_raw, sample_kwargs={'num_samples': 1000, 'batch_size': 2500, 'use_gpu': True}\n",
    ")\n",
    "\n",
    "# export estimated expression in each cluster\n",
    "if 'means_per_cluster_mu_fg' in adata_snrna_raw.varm.keys():\n",
    "    inf_aver = adata_snrna_raw.varm['means_per_cluster_mu_fg'][[f'means_per_cluster_mu_fg_{i}'\n",
    "                                    for i in adata_snrna_raw.uns['mod']['factor_names']]].copy()\n",
    "else:\n",
    "    inf_aver = adata_snrna_raw.var[[f'means_per_cluster_mu_fg_{i}'\n",
    "                                    for i in adata_snrna_raw.uns['mod']['factor_names']]].copy()\n",
    "inf_aver.columns = adata_snrna_raw.uns['mod']['factor_names']\n",
    "inf_aver.iloc[0:5, 0:5]\n",
    "\n",
    "intersect = np.intersect1d(adata_vis.var_names, inf_aver.index)\n",
    "adata_vis = adata_vis[:, intersect].copy()\n",
    "inf_aver = inf_aver.loc[intersect, :].copy()"
   ]
  },
  {
   "cell_type": "code",
   "execution_count": 7,
   "id": "810b39c7",
   "metadata": {},
   "outputs": [],
   "source": [
    "from cell2location.models import Cell2location"
   ]
  },
  {
   "cell_type": "code",
   "execution_count": 8,
   "id": "6ae3c32b",
   "metadata": {},
   "outputs": [],
   "source": [
    "# prepare anndata for cell2location model\n",
    "Cell2location.setup_anndata(adata=adata_vis)\n",
    "#scvi.data.view_anndata_setup(adata_vis)"
   ]
  },
  {
   "cell_type": "code",
   "execution_count": 9,
   "id": "668f781a",
   "metadata": {},
   "outputs": [
    {
     "name": "stderr",
     "output_type": "stream",
     "text": [
      "GPU available: True (cuda), used: True\n",
      "TPU available: False, using: 0 TPU cores\n",
      "IPU available: False, using: 0 IPUs\n",
      "HPU available: False, using: 0 HPUs\n",
      "LOCAL_RANK: 0 - CUDA_VISIBLE_DEVICES: [0,1]\n"
     ]
    },
    {
     "name": "stdout",
     "output_type": "stream",
     "text": [
      "Epoch 30000/30000: 100%|███████████████████████████████████████████████████████████████████████████| 30000/30000 [1:08:38<00:00, 15.63it/s, v_num=1, elbo_train=1.08e+5]"
     ]
    },
    {
     "name": "stderr",
     "output_type": "stream",
     "text": [
      "`Trainer.fit` stopped: `max_epochs=30000` reached.\n"
     ]
    },
    {
     "name": "stdout",
     "output_type": "stream",
     "text": [
      "Epoch 30000/30000: 100%|███████████████████████████████████████████████████████████████████████████| 30000/30000 [1:08:38<00:00,  7.28it/s, v_num=1, elbo_train=1.08e+5]\n",
      "Sampling local variables, batch: 100%|████████████████████████████████████████████████████████████████████████████████████████████████████| 1/1 [00:11<00:00, 11.30s/it]\n",
      "Sampling global variables, sample: 100%|██████████████████████████████████████████████████████████████████████████████████████████████| 999/999 [00:11<00:00, 86.72it/s]\n"
     ]
    }
   ],
   "source": [
    "mod = cell2location.models.Cell2location(\n",
    "    adata_vis, cell_state_df=inf_aver,\n",
    "    # the expected average cell abundance: tissue-dependent\n",
    "    # hyper-prior which can be estimated from paired histology:\n",
    "    N_cells_per_location=30,\n",
    "    # hyperparameter controlling normalisation of\n",
    "    # within-experiment variation in RNA detection (using default here):\n",
    "    detection_alpha=200\n",
    ")\n",
    "\n",
    "mod.train(max_epochs=30000,\n",
    "          # train using full data (batch_size=None)\n",
    "          batch_size=None,\n",
    "          # use all data points in training because\n",
    "          # we need to estimate cell abundance at all locations\n",
    "          train_size=1,\n",
    "          use_gpu=True)\n",
    "\n",
    "# plot ELBO loss history during training, removing first 100 epochs from the plot\n",
    "# mod.plot_history(1000)\n",
    "# plt.legend(labels=['full data training'])\n",
    "\n",
    "adata_vis = mod.export_posterior(\n",
    "    adata_vis, sample_kwargs={'num_samples': 1000, 'batch_size': mod.adata.n_obs, 'use_gpu': True}\n",
    ")"
   ]
  },
  {
   "cell_type": "code",
   "execution_count": 10,
   "id": "6e7028f1",
   "metadata": {},
   "outputs": [
    {
     "name": "stdout",
     "output_type": "stream",
     "text": [
      "AnnData object with n_obs × n_vars = 737 × 33\n",
      "    obs: 'index', 'x', 'y', '_indices', '_scvi_batch', '_scvi_labels'\n",
      "    uns: '_scvi_uuid', '_scvi_manager_uuid', 'mod'\n",
      "    obsm: 'means_cell_abundance_w_sf', 'stds_cell_abundance_w_sf', 'q05_cell_abundance_w_sf', 'q95_cell_abundance_w_sf'\n"
     ]
    }
   ],
   "source": [
    "print(adata_vis)"
   ]
  },
  {
   "cell_type": "code",
   "execution_count": 11,
   "id": "d3485032",
   "metadata": {},
   "outputs": [
    {
     "data": {
      "text/plain": [
       "Index(['L2/3 IT CTX-1', 'L4/5 IT CTX', 'L5 IT CTX', 'L5 NP CTX', 'L5 PT CTX',\n",
       "       'L6 CT CTX', 'L6 IT CTX', 'L6b CTX', 'Lamp5', 'Sst', 'Vip'],\n",
       "      dtype='object')"
      ]
     },
     "execution_count": 11,
     "metadata": {},
     "output_type": "execute_result"
    }
   ],
   "source": [
    "adata_vis.obsm['q05_cell_abundance_w_sf'].columns = adata_vis.obsm['q05_cell_abundance_w_sf'].columns.to_series().apply(lambda x: x.split('_')[-1])\n",
    "adata_vis.obsm['q05_cell_abundance_w_sf'].columns"
   ]
  },
  {
   "cell_type": "code",
   "execution_count": 12,
   "id": "468804ab",
   "metadata": {},
   "outputs": [],
   "source": [
    "adata_vis.obsm['q05_cell_abundance_w_sf'].to_csv(output_file_path + '/Cell2location_result.csv')"
   ]
  }
 ],
 "metadata": {
  "kernelspec": {
   "display_name": "dl_transformers",
   "language": "python",
   "name": "dl_transformers"
  },
  "language_info": {
   "codemirror_mode": {
    "name": "ipython",
    "version": 3
   },
   "file_extension": ".py",
   "mimetype": "text/x-python",
   "name": "python",
   "nbconvert_exporter": "python",
   "pygments_lexer": "ipython3",
   "version": "3.9.2"
  }
 },
 "nbformat": 4,
 "nbformat_minor": 5
}
