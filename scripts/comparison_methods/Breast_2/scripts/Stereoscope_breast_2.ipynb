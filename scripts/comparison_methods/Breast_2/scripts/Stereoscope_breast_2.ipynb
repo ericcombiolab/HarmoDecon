{
 "cells": [
  {
   "cell_type": "code",
   "execution_count": 1,
   "id": "a21de7f5",
   "metadata": {},
   "outputs": [],
   "source": [
    "import warnings\n",
    "\n",
    "# Disable all warnings\n",
    "warnings.filterwarnings(\"ignore\")"
   ]
  },
  {
   "cell_type": "code",
   "execution_count": 2,
   "id": "21492979",
   "metadata": {},
   "outputs": [],
   "source": [
    "import scanpy as sc\n",
    "import numpy as np\n",
    "import pandas as pd\n",
    "\n",
    "import scvi\n",
    "from scvi.external import RNAStereoscope, SpatialStereoscope\n",
    "\n",
    "import sys\n",
    "\n",
    "import os"
   ]
  },
  {
   "cell_type": "code",
   "execution_count": 3,
   "id": "25180ff8",
   "metadata": {},
   "outputs": [],
   "source": [
    "np.random.seed(42)\n",
    "# def get_freer_gpu():\n",
    "#     os.system('nvidia-smi -q -d Memory |grep -A4 GPU|grep Free >tmp')\n",
    "#     memory_available = [int(x.split()[2]) for x in open('tmp', 'r').readlines()]\n",
    "#     max_idx = np.where(memory_available == np.max(memory_available))[0]\n",
    "#     return np.random.permutation(max_idx)[0]\n",
    "# os.environ['CUDA_VISIBLE_DEVICES'] = str(get_freer_gpu())\n",
    "# os.environ['CUDA_VISIBLE_DEVICES'] = '0'"
   ]
  },
  {
   "cell_type": "code",
   "execution_count": 5,
   "id": "94b99c62",
   "metadata": {},
   "outputs": [],
   "source": [
    "scrna_path = \"/home/comp/cszrwang/data/Breast/cytospace/breast_sc_2.h5ad\"\n",
    "spatial_path = \"/home/comp/cszrwang/data/Breast/cytospace/breast_st_2.h5ad\"\n",
    "celltype_key = 'celltype'\n",
    "output_path = \"/home/comp/cszrwang/results/Deconvolution/results/Breast_2/Stereoscope/\"\n",
    "if not os.path.exists(output_path):\n",
    "    os.mkdir(output_path)"
   ]
  },
  {
   "cell_type": "code",
   "execution_count": 6,
   "id": "0d86f5d3",
   "metadata": {},
   "outputs": [],
   "source": [
    "sc_adata = sc.read_h5ad(scrna_path)\n",
    "st_adata = sc.read_h5ad(spatial_path)\n",
    "\n",
    "sc.pp.filter_genes(sc_adata, min_counts = 10)\n",
    "\n",
    "non_mito_genes_list = [name for name in sc_adata.var_names if not name.startswith('MT-')]\n",
    "sc_adata = sc_adata[:, non_mito_genes_list]\n",
    "\n",
    "sc_adata.layers[\"counts\"] = sc_adata.X.copy()\n",
    "sc.pp.normalize_total(sc_adata, target_sum = 1e5)\n",
    "sc.pp.log1p(sc_adata)\n",
    "sc_adata.raw = sc_adata"
   ]
  },
  {
   "cell_type": "code",
   "execution_count": 7,
   "id": "e9226465",
   "metadata": {},
   "outputs": [],
   "source": [
    "sc.pp.highly_variable_genes(\n",
    "    sc_adata,\n",
    "    n_top_genes = 7000,\n",
    "    subset=True,\n",
    "    layer=\"counts\",\n",
    "    flavor=\"seurat_v3\",\n",
    "    span = 1\n",
    ")\n",
    "\n",
    "intersect = np.intersect1d(sc_adata.var_names, st_adata.var_names)\n",
    "st_adata = st_adata[:, intersect].copy()\n",
    "sc_adata = sc_adata[:, intersect].copy()"
   ]
  },
  {
   "cell_type": "code",
   "execution_count": 8,
   "id": "7f2fd4ad",
   "metadata": {},
   "outputs": [
    {
     "name": "stderr",
     "output_type": "stream",
     "text": [
      "No GPU/TPU found, falling back to CPU. (Set TF_CPP_MIN_LOG_LEVEL=0 and rerun for more info.)\n"
     ]
    }
   ],
   "source": [
    "RNAStereoscope.setup_anndata(sc_adata, layer = \"counts\", labels_key = celltype_key)"
   ]
  },
  {
   "cell_type": "code",
   "execution_count": 9,
   "id": "6a8f51a0",
   "metadata": {},
   "outputs": [
    {
     "name": "stderr",
     "output_type": "stream",
     "text": [
      "GPU available: True (cuda), used: True\n",
      "TPU available: False, using: 0 TPU cores\n",
      "IPU available: False, using: 0 IPUs\n",
      "HPU available: False, using: 0 HPUs\n",
      "You are using a CUDA device ('NVIDIA GeForce RTX 4090') that has Tensor Cores. To properly utilize them, you should set `torch.set_float32_matmul_precision('medium' | 'high')` which will trade-off precision for performance. For more details, read https://pytorch.org/docs/stable/generated/torch.set_float32_matmul_precision.html#torch.set_float32_matmul_precision\n",
      "LOCAL_RANK: 0 - CUDA_VISIBLE_DEVICES: [0,1]\n"
     ]
    },
    {
     "name": "stdout",
     "output_type": "stream",
     "text": [
      "Epoch 100/100: 100%|██████████████████████████████████████████████████████████████████████████████████████████| 100/100 [00:23<00:00,  3.53it/s, v_num=1, train_loss_step=9.62e+4, train_loss_epoch=2.36e+6]"
     ]
    },
    {
     "name": "stderr",
     "output_type": "stream",
     "text": [
      "`Trainer.fit` stopped: `max_epochs=100` reached.\n"
     ]
    },
    {
     "name": "stdout",
     "output_type": "stream",
     "text": [
      "\r",
      "Epoch 100/100: 100%|██████████████████████████████████████████████████████████████████████████████████████████| 100/100 [00:23<00:00,  4.23it/s, v_num=1, train_loss_step=9.62e+4, train_loss_epoch=2.36e+6]"
     ]
    },
    {
     "name": "stderr",
     "output_type": "stream",
     "text": [
      "GPU available: True (cuda), used: True\n",
      "TPU available: False, using: 0 TPU cores\n",
      "IPU available: False, using: 0 IPUs\n",
      "HPU available: False, using: 0 HPUs\n",
      "LOCAL_RANK: 0 - CUDA_VISIBLE_DEVICES: [0,1]\n"
     ]
    },
    {
     "name": "stdout",
     "output_type": "stream",
     "text": [
      "\n",
      "Epoch 10000/10000: 100%|██████████████████████████████████████████████████████████████████████████████████| 10000/10000 [32:05<00:00, 12.09it/s, v_num=1, train_loss_step=1.34e+7, train_loss_epoch=1.31e+7]"
     ]
    },
    {
     "name": "stderr",
     "output_type": "stream",
     "text": [
      "`Trainer.fit` stopped: `max_epochs=10000` reached.\n"
     ]
    },
    {
     "name": "stdout",
     "output_type": "stream",
     "text": [
      "Epoch 10000/10000: 100%|██████████████████████████████████████████████████████████████████████████████████| 10000/10000 [32:05<00:00,  5.19it/s, v_num=1, train_loss_step=1.34e+7, train_loss_epoch=1.31e+7]\n"
     ]
    },
    {
     "data": {
      "text/plain": [
       "<Axes: xlabel='epoch'>"
      ]
     },
     "execution_count": 9,
     "metadata": {},
     "output_type": "execute_result"
    },
    {
     "data": {
      "image/png": "[encoded data removed]",
      "text/plain": [
       "<Figure size 640x480 with 1 Axes>"
      ]
     },
     "metadata": {},
     "output_type": "display_data"
    },
    {
     "data": {
      "image/png": "[encoded data removed]",
      "text/plain": [
       "<Figure size 640x480 with 1 Axes>"
      ]
     },
     "metadata": {},
     "output_type": "display_data"
    }
   ],
   "source": [
    "stereo_sc_model = RNAStereoscope(sc_adata)\n",
    "stereo_sc_model.train(max_epochs = 100)\n",
    "stereo_sc_model.history[\"elbo_train\"][10:].plot()\n",
    "\n",
    "st_adata.layers[\"counts\"] = st_adata.X.copy()\n",
    "SpatialStereoscope.setup_anndata(st_adata, layer=\"counts\")\n",
    "\n",
    "spatial_model = SpatialStereoscope.from_rna_model(st_adata, stereo_sc_model)\n",
    "spatial_model.train(max_epochs = 10000)\n",
    "spatial_model.history[\"elbo_train\"][10:].plot()"
   ]
  },
  {
   "cell_type": "code",
   "execution_count": 10,
   "id": "003cb8c6",
   "metadata": {},
   "outputs": [],
   "source": [
    "spatial_model.get_proportions().to_csv(output_path + '/Stereoscope_result.csv')"
   ]
  }
 ],
 "metadata": {
  "kernelspec": {
   "display_name": "dl_transformers",
   "language": "python",
   "name": "dl_transformers"
  },
  "language_info": {
   "codemirror_mode": {
    "name": "ipython",
    "version": 3
   },
   "file_extension": ".py",
   "mimetype": "text/x-python",
   "name": "python",
   "nbconvert_exporter": "python",
   "pygments_lexer": "ipython3",
   "version": "3.9.2"
  }
 },
 "nbformat": 4,
 "nbformat_minor": 5
}
