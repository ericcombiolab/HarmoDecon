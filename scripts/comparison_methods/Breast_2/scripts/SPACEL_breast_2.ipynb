{
 "cells": [
  {
   "cell_type": "code",
   "execution_count": 1,
   "id": "5df422e2",
   "metadata": {},
   "outputs": [],
   "source": [
    "import os\n",
    "\n",
    "os.environ['R_HOME'] = '/home/comp/cszrwang/anaconda3/envs/SPACEL/lib/R'"
   ]
  },
  {
   "cell_type": "code",
   "execution_count": 2,
   "id": "47e1f809",
   "metadata": {},
   "outputs": [
    {
     "name": "stdout",
     "output_type": "stream",
     "text": [
      "Setting environment seed: 42\n"
     ]
    },
    {
     "name": "stderr",
     "output_type": "stream",
     "text": [
      "/home/comp/cszrwang/anaconda3/envs/SPACEL/lib/python3.8/site-packages/tqdm/auto.py:21: TqdmWarning: IProgress not found. Please update jupyter and ipywidgets. See https://ipywidgets.readthedocs.io/en/stable/user_install.html\n",
      "  from .autonotebook import tqdm as notebook_tqdm\n",
      "Global seed set to 0\n"
     ]
    }
   ],
   "source": [
    "from SPACEL.setting import set_environ_seed\n",
    "set_environ_seed()\n",
    "from SPACEL import Spoint\n",
    "import scanpy as sc\n",
    "import numpy as np\n",
    "import matplotlib\n",
    "matplotlib.rcParams['pdf.fonttype'] = 42\n",
    "matplotlib.rcParams['ps.fonttype'] = 42\n",
    "matplotlib.rcParams['font.serif'] = ['Arial']\n",
    "sc.settings.set_figure_params(dpi=50,dpi_save=300,facecolor='white',fontsize=10,vector_friendly=True,figsize=(3,3))\n",
    "sc.settings.verbosity = 3"
   ]
  },
  {
   "cell_type": "code",
   "execution_count": 3,
   "id": "6f5ec0da",
   "metadata": {},
   "outputs": [],
   "source": [
    "sc_ad = sc.read_h5ad('/home/comp/cszrwang/data/Breast/cytospace/breast_sc_2.h5ad')\n",
    "st_ad = sc.read_h5ad('/home/comp/cszrwang/data/Breast/cytospace/breast_st_2.h5ad')\n",
    "\n",
    "sc.pp.filter_genes(st_ad,min_cells=1)\n",
    "sc.pp.filter_genes(sc_ad,min_cells=1)\n",
    "sc.pp.filter_cells(st_ad,min_genes=1)\n",
    "sc.pp.filter_cells(sc_ad,min_genes=1)"
   ]
  },
  {
   "cell_type": "code",
   "execution_count": 4,
   "id": "32ffbfac",
   "metadata": {},
   "outputs": [
    {
     "data": {
      "text/plain": [
       "CID3921_AAAGATGGTGAGGCTA     Endothelial cells\n",
       "CID3921_AAAGATGTCCATGAGT     Endothelial cells\n",
       "CID3921_AACCATGCAGTAACGG     Endothelial cells\n",
       "CID3921_AACCGCGGTCAGAATA     Endothelial cells\n",
       "CID3921_AACGTTGTCAGCTGGC     Endothelial cells\n",
       "                                   ...        \n",
       "CID45171_CTGCTGTTCCTTTCGG     Epithelial cells\n",
       "CID3921_TCTTTCCTCCGAACGC      Epithelial cells\n",
       "CID45171_TATTACCTCGACCAGC     Epithelial cells\n",
       "CID3921_CTCATTATCTGTCTAT      Epithelial cells\n",
       "CID3921_GATCGTACACAGATTC      Epithelial cells\n",
       "Name: celltype, Length: 3977, dtype: category\n",
       "Categories (11, object): ['B cells', 'Dendritic cells', 'Endothelial cells', 'Epithelial cells', ..., 'PCs', 'PVL', 'T cells CD4', 'T cells CD8']"
      ]
     },
     "execution_count": 4,
     "metadata": {},
     "output_type": "execute_result"
    }
   ],
   "source": [
    "sc_ad.obs['celltype']"
   ]
  },
  {
   "cell_type": "code",
   "execution_count": 5,
   "id": "c3c6e30b",
   "metadata": {},
   "outputs": [
    {
     "name": "stdout",
     "output_type": "stream",
     "text": [
      "Setting global seed: 42\n",
      "normalizing counts per cell\n",
      "    finished (0:00:00)\n",
      "normalizing counts per cell\n",
      "    finished (0:00:00)\n",
      "### Finding marker genes...\n",
      "ranking genes\n",
      "    finished: added to `.uns['rank_genes_groups']`\n",
      "    'names', sorted np.recarray to be indexed by group ids\n",
      "    'scores', sorted np.recarray to be indexed by group ids\n",
      "    'logfoldchanges', sorted np.recarray to be indexed by group ids\n",
      "    'pvals', sorted np.recarray to be indexed by group ids\n",
      "    'pvals_adj', sorted np.recarray to be indexed by group ids (0:00:05)\n",
      "celltype\n",
      "B cells                      200\n",
      "Dendritic cells              200\n",
      "Endothelial cells            200\n",
      "Epithelial cells             200\n",
      "Fibroblasts                  200\n",
      "Monocytes and Macrophages    200\n",
      "NK cells                     200\n",
      "PCs                          200\n",
      "PVL                          200\n",
      "T cells CD4                  200\n",
      "T cells CD8                  200\n",
      "Name: count, dtype: int64\n",
      "### Used gene numbers: 1850\n",
      "### Initializing sample probability\n",
      "### Genetating simulated spatial data using scRNA data with mode: unbalance\n",
      "### Genetating simulated spatial data using scRNA data with mode: sqrt\n",
      "### Genetating simulated spatial data using scRNA data with mode: balance\n"
     ]
    }
   ],
   "source": [
    "spoint_model = Spoint.init_model(sc_ad,st_ad,celltype_key='celltype',deg_method='t-test',sm_size=100000,use_gpu=True)"
   ]
  },
  {
   "cell_type": "code",
   "execution_count": 6,
   "id": "6a61f07a",
   "metadata": {},
   "outputs": [
    {
     "name": "stderr",
     "output_type": "stream",
     "text": [
      "No GPU/TPU found, falling back to CPU. (Set TF_CPP_MIN_LOG_LEVEL=0 and rerun for more info.)\n",
      "GPU available: True (cuda), used: True\n",
      "TPU available: False, using: 0 TPU cores\n",
      "IPU available: False, using: 0 IPUs\n",
      "HPU available: False, using: 0 HPUs\n",
      "LOCAL_RANK: 0 - CUDA_VISIBLE_DEVICES: [0,1,2,3]\n"
     ]
    },
    {
     "name": "stdout",
     "output_type": "stream",
     "text": [
      "Epoch 100/100: 100%|██████████████████████████████████████████████████████████████████████████████████████████| 100/100 [02:02<00:00,  1.23s/it, loss=1.28e+03, v_num=1]"
     ]
    },
    {
     "name": "stderr",
     "output_type": "stream",
     "text": [
      "`Trainer.fit` stopped: `max_epochs=100` reached.\n"
     ]
    },
    {
     "name": "stdout",
     "output_type": "stream",
     "text": [
      "Epoch 100/100: 100%|██████████████████████████████████████████████████████████████████████████████████████████| 100/100 [02:02<00:00,  1.23s/it, loss=1.28e+03, v_num=1]\n"
     ]
    },
    {
     "name": "stderr",
     "output_type": "stream",
     "text": [
      "Step 5000: Test inference loss=-0.907: 100%|████████████████████████████████████████████████████████████████████████████████████████| 5000/5000 [28:14<00:00,  2.95it/s]\n"
     ]
    }
   ],
   "source": [
    "spoint_model.train(max_steps=5000, batch_size=1024)"
   ]
  },
  {
   "cell_type": "code",
   "execution_count": 7,
   "id": "5e711cdb",
   "metadata": {},
   "outputs": [],
   "source": [
    "pre = spoint_model.deconv_spatial()"
   ]
  },
  {
   "cell_type": "code",
   "execution_count": 8,
   "id": "4afc4c4c",
   "metadata": {},
   "outputs": [
    {
     "data": {
      "text/html": [
       "<div>\n",
       "<style scoped>\n",
       "    .dataframe tbody tr th:only-of-type {\n",
       "        vertical-align: middle;\n",
       "    }\n",
       "\n",
       "    .dataframe tbody tr th {\n",
       "        vertical-align: top;\n",
       "    }\n",
       "\n",
       "    .dataframe thead th {\n",
       "        text-align: right;\n",
       "    }\n",
       "</style>\n",
       "<table border=\"1\" class=\"dataframe\">\n",
       "  <thead>\n",
       "    <tr style=\"text-align: right;\">\n",
       "      <th></th>\n",
       "      <th>Epithelial cells</th>\n",
       "      <th>Monocytes and Macrophages</th>\n",
       "      <th>T cells CD4</th>\n",
       "      <th>T cells CD8</th>\n",
       "      <th>NK cells</th>\n",
       "      <th>Fibroblasts</th>\n",
       "      <th>Endothelial cells</th>\n",
       "      <th>B cells</th>\n",
       "      <th>PVL</th>\n",
       "      <th>PCs</th>\n",
       "      <th>Dendritic cells</th>\n",
       "    </tr>\n",
       "  </thead>\n",
       "  <tbody>\n",
       "    <tr>\n",
       "      <th>AAACAAGTATCTCCCA.1__50x102</th>\n",
       "      <td>0.729145</td>\n",
       "      <td>0.231346</td>\n",
       "      <td>0.014374</td>\n",
       "      <td>0.000000</td>\n",
       "      <td>0.000000</td>\n",
       "      <td>0.000000</td>\n",
       "      <td>0.000000</td>\n",
       "      <td>0.000000</td>\n",
       "      <td>0.000000</td>\n",
       "      <td>0.000000</td>\n",
       "      <td>0.000000</td>\n",
       "    </tr>\n",
       "    <tr>\n",
       "      <th>AAACACCAATAACTGC.1__59x19</th>\n",
       "      <td>0.094729</td>\n",
       "      <td>0.158855</td>\n",
       "      <td>0.076552</td>\n",
       "      <td>0.068474</td>\n",
       "      <td>0.015142</td>\n",
       "      <td>0.094100</td>\n",
       "      <td>0.116020</td>\n",
       "      <td>0.060175</td>\n",
       "      <td>0.000000</td>\n",
       "      <td>0.124194</td>\n",
       "      <td>0.185591</td>\n",
       "    </tr>\n",
       "    <tr>\n",
       "      <th>AAACAGAGCGACTCCT.1__14x94</th>\n",
       "      <td>0.255785</td>\n",
       "      <td>0.025276</td>\n",
       "      <td>0.026709</td>\n",
       "      <td>0.038504</td>\n",
       "      <td>0.041021</td>\n",
       "      <td>0.237220</td>\n",
       "      <td>0.000000</td>\n",
       "      <td>0.000000</td>\n",
       "      <td>0.000000</td>\n",
       "      <td>0.325953</td>\n",
       "      <td>0.033706</td>\n",
       "    </tr>\n",
       "    <tr>\n",
       "      <th>AAACAGCTTTCAGAAG.1__43x9</th>\n",
       "      <td>0.000000</td>\n",
       "      <td>0.289943</td>\n",
       "      <td>0.000000</td>\n",
       "      <td>0.000000</td>\n",
       "      <td>0.010847</td>\n",
       "      <td>0.262344</td>\n",
       "      <td>0.244471</td>\n",
       "      <td>0.096421</td>\n",
       "      <td>0.000000</td>\n",
       "      <td>0.044249</td>\n",
       "      <td>0.022704</td>\n",
       "    </tr>\n",
       "    <tr>\n",
       "      <th>AAACAGGGTCTATATT.1__47x13</th>\n",
       "      <td>0.000000</td>\n",
       "      <td>0.028347</td>\n",
       "      <td>0.113066</td>\n",
       "      <td>0.115978</td>\n",
       "      <td>0.145224</td>\n",
       "      <td>0.155487</td>\n",
       "      <td>0.000000</td>\n",
       "      <td>0.197707</td>\n",
       "      <td>0.022245</td>\n",
       "      <td>0.207311</td>\n",
       "      <td>0.012437</td>\n",
       "    </tr>\n",
       "    <tr>\n",
       "      <th>...</th>\n",
       "      <td>...</td>\n",
       "      <td>...</td>\n",
       "      <td>...</td>\n",
       "      <td>...</td>\n",
       "      <td>...</td>\n",
       "      <td>...</td>\n",
       "      <td>...</td>\n",
       "      <td>...</td>\n",
       "      <td>...</td>\n",
       "      <td>...</td>\n",
       "      <td>...</td>\n",
       "    </tr>\n",
       "    <tr>\n",
       "      <th>TTGTTCAGTGTGCTAC.1__24x64</th>\n",
       "      <td>0.162033</td>\n",
       "      <td>0.151350</td>\n",
       "      <td>0.057331</td>\n",
       "      <td>0.140500</td>\n",
       "      <td>0.141493</td>\n",
       "      <td>0.156766</td>\n",
       "      <td>0.000000</td>\n",
       "      <td>0.012659</td>\n",
       "      <td>0.000000</td>\n",
       "      <td>0.154338</td>\n",
       "      <td>0.000000</td>\n",
       "    </tr>\n",
       "    <tr>\n",
       "      <th>TTGTTGTGTGTCAAGA.1__31x77</th>\n",
       "      <td>0.036812</td>\n",
       "      <td>0.018444</td>\n",
       "      <td>0.193569</td>\n",
       "      <td>0.097299</td>\n",
       "      <td>0.115253</td>\n",
       "      <td>0.083989</td>\n",
       "      <td>0.102238</td>\n",
       "      <td>0.140829</td>\n",
       "      <td>0.021322</td>\n",
       "      <td>0.105482</td>\n",
       "      <td>0.084763</td>\n",
       "    </tr>\n",
       "    <tr>\n",
       "      <th>TTGTTTCACATCCAGG.1__58x42</th>\n",
       "      <td>0.109209</td>\n",
       "      <td>0.152154</td>\n",
       "      <td>0.091729</td>\n",
       "      <td>0.113005</td>\n",
       "      <td>0.050500</td>\n",
       "      <td>0.124938</td>\n",
       "      <td>0.129072</td>\n",
       "      <td>0.020840</td>\n",
       "      <td>0.059289</td>\n",
       "      <td>0.141890</td>\n",
       "      <td>0.000000</td>\n",
       "    </tr>\n",
       "    <tr>\n",
       "      <th>TTGTTTCATTAGTCTA.1__60x30</th>\n",
       "      <td>0.000000</td>\n",
       "      <td>0.170371</td>\n",
       "      <td>0.131898</td>\n",
       "      <td>0.106210</td>\n",
       "      <td>0.043260</td>\n",
       "      <td>0.148943</td>\n",
       "      <td>0.195386</td>\n",
       "      <td>0.031944</td>\n",
       "      <td>0.047430</td>\n",
       "      <td>0.100146</td>\n",
       "      <td>0.021813</td>\n",
       "    </tr>\n",
       "    <tr>\n",
       "      <th>TTGTTTCCATACAACT.1__45x27</th>\n",
       "      <td>0.095271</td>\n",
       "      <td>0.108590</td>\n",
       "      <td>0.113357</td>\n",
       "      <td>0.037911</td>\n",
       "      <td>0.012799</td>\n",
       "      <td>0.149154</td>\n",
       "      <td>0.111667</td>\n",
       "      <td>0.140087</td>\n",
       "      <td>0.022645</td>\n",
       "      <td>0.129593</td>\n",
       "      <td>0.078926</td>\n",
       "    </tr>\n",
       "  </tbody>\n",
       "</table>\n",
       "<p>2518 rows × 11 columns</p>\n",
       "</div>"
      ],
      "text/plain": [
       "                            Epithelial cells  Monocytes and Macrophages  \\\n",
       "AAACAAGTATCTCCCA.1__50x102          0.729145                   0.231346   \n",
       "AAACACCAATAACTGC.1__59x19           0.094729                   0.158855   \n",
       "AAACAGAGCGACTCCT.1__14x94           0.255785                   0.025276   \n",
       "AAACAGCTTTCAGAAG.1__43x9            0.000000                   0.289943   \n",
       "AAACAGGGTCTATATT.1__47x13           0.000000                   0.028347   \n",
       "...                                      ...                        ...   \n",
       "TTGTTCAGTGTGCTAC.1__24x64           0.162033                   0.151350   \n",
       "TTGTTGTGTGTCAAGA.1__31x77           0.036812                   0.018444   \n",
       "TTGTTTCACATCCAGG.1__58x42           0.109209                   0.152154   \n",
       "TTGTTTCATTAGTCTA.1__60x30           0.000000                   0.170371   \n",
       "TTGTTTCCATACAACT.1__45x27           0.095271                   0.108590   \n",
       "\n",
       "                            T cells CD4  T cells CD8  NK cells  Fibroblasts  \\\n",
       "AAACAAGTATCTCCCA.1__50x102     0.014374     0.000000  0.000000     0.000000   \n",
       "AAACACCAATAACTGC.1__59x19      0.076552     0.068474  0.015142     0.094100   \n",
       "AAACAGAGCGACTCCT.1__14x94      0.026709     0.038504  0.041021     0.237220   \n",
       "AAACAGCTTTCAGAAG.1__43x9       0.000000     0.000000  0.010847     0.262344   \n",
       "AAACAGGGTCTATATT.1__47x13      0.113066     0.115978  0.145224     0.155487   \n",
       "...                                 ...          ...       ...          ...   \n",
       "TTGTTCAGTGTGCTAC.1__24x64      0.057331     0.140500  0.141493     0.156766   \n",
       "TTGTTGTGTGTCAAGA.1__31x77      0.193569     0.097299  0.115253     0.083989   \n",
       "TTGTTTCACATCCAGG.1__58x42      0.091729     0.113005  0.050500     0.124938   \n",
       "TTGTTTCATTAGTCTA.1__60x30      0.131898     0.106210  0.043260     0.148943   \n",
       "TTGTTTCCATACAACT.1__45x27      0.113357     0.037911  0.012799     0.149154   \n",
       "\n",
       "                            Endothelial cells   B cells       PVL       PCs  \\\n",
       "AAACAAGTATCTCCCA.1__50x102           0.000000  0.000000  0.000000  0.000000   \n",
       "AAACACCAATAACTGC.1__59x19            0.116020  0.060175  0.000000  0.124194   \n",
       "AAACAGAGCGACTCCT.1__14x94            0.000000  0.000000  0.000000  0.325953   \n",
       "AAACAGCTTTCAGAAG.1__43x9             0.244471  0.096421  0.000000  0.044249   \n",
       "AAACAGGGTCTATATT.1__47x13            0.000000  0.197707  0.022245  0.207311   \n",
       "...                                       ...       ...       ...       ...   \n",
       "TTGTTCAGTGTGCTAC.1__24x64            0.000000  0.012659  0.000000  0.154338   \n",
       "TTGTTGTGTGTCAAGA.1__31x77            0.102238  0.140829  0.021322  0.105482   \n",
       "TTGTTTCACATCCAGG.1__58x42            0.129072  0.020840  0.059289  0.141890   \n",
       "TTGTTTCATTAGTCTA.1__60x30            0.195386  0.031944  0.047430  0.100146   \n",
       "TTGTTTCCATACAACT.1__45x27            0.111667  0.140087  0.022645  0.129593   \n",
       "\n",
       "                            Dendritic cells  \n",
       "AAACAAGTATCTCCCA.1__50x102         0.000000  \n",
       "AAACACCAATAACTGC.1__59x19          0.185591  \n",
       "AAACAGAGCGACTCCT.1__14x94          0.033706  \n",
       "AAACAGCTTTCAGAAG.1__43x9           0.022704  \n",
       "AAACAGGGTCTATATT.1__47x13          0.012437  \n",
       "...                                     ...  \n",
       "TTGTTCAGTGTGCTAC.1__24x64          0.000000  \n",
       "TTGTTGTGTGTCAAGA.1__31x77          0.084763  \n",
       "TTGTTTCACATCCAGG.1__58x42          0.000000  \n",
       "TTGTTTCATTAGTCTA.1__60x30          0.021813  \n",
       "TTGTTTCCATACAACT.1__45x27          0.078926  \n",
       "\n",
       "[2518 rows x 11 columns]"
      ]
     },
     "execution_count": 8,
     "metadata": {},
     "output_type": "execute_result"
    }
   ],
   "source": [
    "pre"
   ]
  },
  {
   "cell_type": "code",
   "execution_count": 9,
   "id": "305748ad",
   "metadata": {},
   "outputs": [],
   "source": [
    "output_file_path = \"/home/comp/cszrwang/results/Deconvolution/results/Breast_2/SPACEL/\""
   ]
  },
  {
   "cell_type": "code",
   "execution_count": 10,
   "id": "f30893d3",
   "metadata": {},
   "outputs": [],
   "source": [
    "pre.to_csv(output_file_path + '/SPACEL_result.csv')"
   ]
  },
  {
   "cell_type": "code",
   "execution_count": 12,
   "id": "18667a50",
   "metadata": {},
   "outputs": [],
   "source": [
    "st_ad_show = spoint_model.st_ad"
   ]
  },
  {
   "cell_type": "code",
   "execution_count": 13,
   "id": "8073e42d",
   "metadata": {},
   "outputs": [
    {
     "data": {
      "text/plain": [
       "AnnData object with n_obs × n_vars = 737 × 27\n",
       "    obs: 'index', 'x', 'y', 'n_genes', 'batch', 'L4/5 IT CTX', 'L2/3 IT CTX-1', 'L6 IT CTX', 'L6b CTX', 'L6 CT CTX', 'Vip', 'L5 IT CTX', 'L5 NP CTX', 'Lamp5', 'Sst', 'L5 PT CTX'\n",
       "    var: 'n_cells'\n",
       "    uns: 'celltypes'\n",
       "    layers: 'norm'"
      ]
     },
     "execution_count": 13,
     "metadata": {},
     "output_type": "execute_result"
    }
   ],
   "source": [
    "st_ad_show"
   ]
  }
 ],
 "metadata": {
  "kernelspec": {
   "display_name": "SPACEL",
   "language": "python",
   "name": "spacel"
  },
  "language_info": {
   "codemirror_mode": {
    "name": "ipython",
    "version": 3
   },
   "file_extension": ".py",
   "mimetype": "text/x-python",
   "name": "python",
   "nbconvert_exporter": "python",
   "pygments_lexer": "ipython3",
   "version": "3.8.18"
  }
 },
 "nbformat": 4,
 "nbformat_minor": 5
}
