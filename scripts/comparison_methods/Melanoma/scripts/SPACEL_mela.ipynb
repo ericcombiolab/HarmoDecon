{
 "cells": [
  {
   "cell_type": "code",
   "execution_count": 2,
   "id": "5df422e2",
   "metadata": {},
   "outputs": [],
   "source": [
    "import os\n",
    "\n",
    "os.environ['R_HOME'] = '/home/comp/cszrwang/anaconda3/envs/SPACEL/lib/R'"
   ]
  },
  {
   "cell_type": "code",
   "execution_count": 3,
   "id": "47e1f809",
   "metadata": {},
   "outputs": [
    {
     "name": "stdout",
     "output_type": "stream",
     "text": [
      "Setting environment seed: 42\n"
     ]
    },
    {
     "name": "stderr",
     "output_type": "stream",
     "text": [
      "/home/comp/cszrwang/anaconda3/envs/SPACEL/lib/python3.8/site-packages/tqdm/auto.py:21: TqdmWarning: IProgress not found. Please update jupyter and ipywidgets. See https://ipywidgets.readthedocs.io/en/stable/user_install.html\n",
      "  from .autonotebook import tqdm as notebook_tqdm\n",
      "Global seed set to 0\n"
     ]
    }
   ],
   "source": [
    "from SPACEL.setting import set_environ_seed\n",
    "set_environ_seed()\n",
    "from SPACEL import Spoint\n",
    "import scanpy as sc\n",
    "import numpy as np\n",
    "import matplotlib\n",
    "matplotlib.rcParams['pdf.fonttype'] = 42\n",
    "matplotlib.rcParams['ps.fonttype'] = 42\n",
    "matplotlib.rcParams['font.serif'] = ['Arial']\n",
    "sc.settings.set_figure_params(dpi=50,dpi_save=300,facecolor='white',fontsize=10,vector_friendly=True,figsize=(3,3))\n",
    "sc.settings.verbosity = 3"
   ]
  },
  {
   "cell_type": "code",
   "execution_count": 4,
   "id": "6f5ec0da",
   "metadata": {},
   "outputs": [],
   "source": [
    "sc_ad = sc.read_h5ad('/home/comp/cszrwang/data/Melanoma/sc_mela.h5ad')\n",
    "st_ad = sc.read_h5ad('/home/comp/cszrwang/data/Melanoma/st_mela.h5ad')\n",
    "\n",
    "sc.pp.filter_genes(st_ad,min_cells=1)\n",
    "sc.pp.filter_genes(sc_ad,min_cells=1)\n",
    "sc.pp.filter_cells(st_ad,min_genes=1)\n",
    "sc.pp.filter_cells(sc_ad,min_genes=1)"
   ]
  },
  {
   "cell_type": "code",
   "execution_count": 5,
   "id": "32ffbfac",
   "metadata": {},
   "outputs": [
    {
     "data": {
      "text/plain": [
       "Cy72_CD45_H02_S758_comb           B\n",
       "CY58_1_CD45_B02_S974_comb         T\n",
       "Cy71_CD45_D08_S524_comb         Mal\n",
       "Cy81_FNA_CD45_B01_S301_comb     Mal\n",
       "Cy80_II_CD45_B07_S883_comb      Mal\n",
       "                               ... \n",
       "CY75_1_CD45_CD8_7__S223_comb      T\n",
       "CY75_1_CD45_CD8_1__S65_comb       T\n",
       "CY75_1_CD45_CD8_1__S93_comb       T\n",
       "CY75_1_CD45_CD8_1__S76_comb       T\n",
       "CY75_1_CD45_CD8_7__S274_comb    Mal\n",
       "Name: celltype, Length: 4513, dtype: category\n",
       "Categories (7, object): ['B', 'CAF', 'Endo', 'Macro', 'Mal', 'NK', 'T']"
      ]
     },
     "execution_count": 5,
     "metadata": {},
     "output_type": "execute_result"
    }
   ],
   "source": [
    "sc_ad.obs['celltype']"
   ]
  },
  {
   "cell_type": "code",
   "execution_count": 6,
   "id": "c3c6e30b",
   "metadata": {},
   "outputs": [
    {
     "name": "stdout",
     "output_type": "stream",
     "text": [
      "Setting global seed: 42\n",
      "normalizing counts per cell\n",
      "    finished (0:00:00)\n",
      "normalizing counts per cell\n",
      "    finished (0:00:00)\n",
      "### Finding marker genes...\n",
      "ranking genes\n",
      "    finished: added to `.uns['rank_genes_groups']`\n",
      "    'names', sorted np.recarray to be indexed by group ids\n",
      "    'scores', sorted np.recarray to be indexed by group ids\n",
      "    'logfoldchanges', sorted np.recarray to be indexed by group ids\n",
      "    'pvals', sorted np.recarray to be indexed by group ids\n",
      "    'pvals_adj', sorted np.recarray to be indexed by group ids (0:00:06)\n",
      "celltype\n",
      "B        200\n",
      "CAF      200\n",
      "Endo     200\n",
      "Macro    200\n",
      "Mal      200\n",
      "NK       200\n",
      "T        200\n",
      "Name: count, dtype: int64\n",
      "### Used gene numbers: 1281\n",
      "### Initializing sample probability\n",
      "### Genetating simulated spatial data using scRNA data with mode: unbalance\n",
      "### Genetating simulated spatial data using scRNA data with mode: sqrt\n",
      "### Genetating simulated spatial data using scRNA data with mode: balance\n"
     ]
    }
   ],
   "source": [
    "spoint_model = Spoint.init_model(sc_ad,st_ad,celltype_key='celltype',deg_method='t-test',sm_size=100000,use_gpu=True)"
   ]
  },
  {
   "cell_type": "code",
   "execution_count": 7,
   "id": "6a61f07a",
   "metadata": {},
   "outputs": [
    {
     "name": "stderr",
     "output_type": "stream",
     "text": [
      "No GPU/TPU found, falling back to CPU. (Set TF_CPP_MIN_LOG_LEVEL=0 and rerun for more info.)\n",
      "/home/comp/cszrwang/anaconda3/envs/SPACEL/lib/python3.8/site-packages/scvi/data/fields/_layer_field.py:90: UserWarning: adata.layers[counts] does not contain unnormalized count data. Are you sure this is what you want?\n",
      "  warnings.warn(\n",
      "GPU available: True (cuda), used: True\n",
      "TPU available: False, using: 0 TPU cores\n",
      "IPU available: False, using: 0 IPUs\n",
      "HPU available: False, using: 0 HPUs\n",
      "LOCAL_RANK: 0 - CUDA_VISIBLE_DEVICES: [0,1,2,3]\n"
     ]
    },
    {
     "name": "stdout",
     "output_type": "stream",
     "text": [
      "Epoch 1/100:   0%|                                                                                                                              | 0/100 [00:00<?, ?it/s]"
     ]
    },
    {
     "name": "stderr",
     "output_type": "stream",
     "text": [
      "/home/comp/cszrwang/anaconda3/envs/SPACEL/lib/python3.8/site-packages/scvi/distributions/_negative_binomial.py:476: UserWarning: The value argument must be within the support of the distribution\n",
      "  warnings.warn(\n",
      "/home/comp/cszrwang/anaconda3/envs/SPACEL/lib/python3.8/site-packages/scvi/distributions/_negative_binomial.py:476: UserWarning: The value argument must be within the support of the distribution\n",
      "  warnings.warn(\n"
     ]
    },
    {
     "name": "stdout",
     "output_type": "stream",
     "text": [
      "Epoch 2/100:   1%|▉                                                                                                  | 1/100 [00:02<03:41,  2.24s/it, loss=794, v_num=1]"
     ]
    },
    {
     "name": "stderr",
     "output_type": "stream",
     "text": [
      "/home/comp/cszrwang/anaconda3/envs/SPACEL/lib/python3.8/site-packages/scvi/distributions/_negative_binomial.py:476: UserWarning: The value argument must be within the support of the distribution\n",
      "  warnings.warn(\n"
     ]
    },
    {
     "name": "stdout",
     "output_type": "stream",
     "text": [
      "Epoch 100/100: 100%|███████████████████████████████████████████████████████████████████████████████████████████████| 100/100 [01:30<00:00,  1.09it/s, loss=621, v_num=1]"
     ]
    },
    {
     "name": "stderr",
     "output_type": "stream",
     "text": [
      "`Trainer.fit` stopped: `max_epochs=100` reached.\n"
     ]
    },
    {
     "name": "stdout",
     "output_type": "stream",
     "text": [
      "Epoch 100/100: 100%|███████████████████████████████████████████████████████████████████████████████████████████████| 100/100 [01:30<00:00,  1.10it/s, loss=621, v_num=1]\n"
     ]
    },
    {
     "name": "stderr",
     "output_type": "stream",
     "text": [
      "Step 5000: Test inference loss=-0.953: 100%|████████████████████████████████████████████████████████████████████████████████████████| 5000/5000 [15:49<00:00,  5.27it/s]\n"
     ]
    }
   ],
   "source": [
    "spoint_model.train(max_steps=5000, batch_size=1024)"
   ]
  },
  {
   "cell_type": "code",
   "execution_count": 1,
   "id": "5e711cdb",
   "metadata": {},
   "outputs": [
    {
     "ename": "NameError",
     "evalue": "name 'spoint_model' is not defined",
     "output_type": "error",
     "traceback": [
      "\u001b[0;31m---------------------------------------------------------------------------\u001b[0m",
      "\u001b[0;31mNameError\u001b[0m                                 Traceback (most recent call last)",
      "Cell \u001b[0;32mIn[1], line 1\u001b[0m\n\u001b[0;32m----> 1\u001b[0m pre \u001b[38;5;241m=\u001b[39m \u001b[43mspoint_model\u001b[49m\u001b[38;5;241m.\u001b[39mdeconv_spatial()\n",
      "\u001b[0;31mNameError\u001b[0m: name 'spoint_model' is not defined"
     ]
    }
   ],
   "source": [
    "pre = spoint_model.deconv_spatial()"
   ]
  },
  {
   "cell_type": "code",
   "execution_count": 9,
   "id": "4afc4c4c",
   "metadata": {},
   "outputs": [
    {
     "data": {
      "text/html": [
       "<div>\n",
       "<style scoped>\n",
       "    .dataframe tbody tr th:only-of-type {\n",
       "        vertical-align: middle;\n",
       "    }\n",
       "\n",
       "    .dataframe tbody tr th {\n",
       "        vertical-align: top;\n",
       "    }\n",
       "\n",
       "    .dataframe thead th {\n",
       "        text-align: right;\n",
       "    }\n",
       "</style>\n",
       "<table border=\"1\" class=\"dataframe\">\n",
       "  <thead>\n",
       "    <tr style=\"text-align: right;\">\n",
       "      <th></th>\n",
       "      <th>T</th>\n",
       "      <th>Mal</th>\n",
       "      <th>B</th>\n",
       "      <th>Macro</th>\n",
       "      <th>Endo</th>\n",
       "      <th>CAF</th>\n",
       "      <th>NK</th>\n",
       "    </tr>\n",
       "  </thead>\n",
       "  <tbody>\n",
       "    <tr>\n",
       "      <th>7x15</th>\n",
       "      <td>0.095537</td>\n",
       "      <td>0.566322</td>\n",
       "      <td>0.224578</td>\n",
       "      <td>0.070551</td>\n",
       "      <td>0.000000</td>\n",
       "      <td>0.040718</td>\n",
       "      <td>0.000000</td>\n",
       "    </tr>\n",
       "    <tr>\n",
       "      <th>7x16</th>\n",
       "      <td>0.059581</td>\n",
       "      <td>0.325888</td>\n",
       "      <td>0.024010</td>\n",
       "      <td>0.227185</td>\n",
       "      <td>0.093467</td>\n",
       "      <td>0.178023</td>\n",
       "      <td>0.091846</td>\n",
       "    </tr>\n",
       "    <tr>\n",
       "      <th>7x17</th>\n",
       "      <td>0.000000</td>\n",
       "      <td>0.280831</td>\n",
       "      <td>0.233439</td>\n",
       "      <td>0.176961</td>\n",
       "      <td>0.074554</td>\n",
       "      <td>0.224734</td>\n",
       "      <td>0.000000</td>\n",
       "    </tr>\n",
       "    <tr>\n",
       "      <th>7x18</th>\n",
       "      <td>0.025566</td>\n",
       "      <td>0.652917</td>\n",
       "      <td>0.165768</td>\n",
       "      <td>0.154224</td>\n",
       "      <td>0.000000</td>\n",
       "      <td>0.000000</td>\n",
       "      <td>0.000000</td>\n",
       "    </tr>\n",
       "    <tr>\n",
       "      <th>8x13</th>\n",
       "      <td>0.017637</td>\n",
       "      <td>0.396012</td>\n",
       "      <td>0.312775</td>\n",
       "      <td>0.081524</td>\n",
       "      <td>0.000000</td>\n",
       "      <td>0.189869</td>\n",
       "      <td>0.000000</td>\n",
       "    </tr>\n",
       "    <tr>\n",
       "      <th>...</th>\n",
       "      <td>...</td>\n",
       "      <td>...</td>\n",
       "      <td>...</td>\n",
       "      <td>...</td>\n",
       "      <td>...</td>\n",
       "      <td>...</td>\n",
       "      <td>...</td>\n",
       "    </tr>\n",
       "    <tr>\n",
       "      <th>27x18</th>\n",
       "      <td>0.010045</td>\n",
       "      <td>0.367056</td>\n",
       "      <td>0.233389</td>\n",
       "      <td>0.156401</td>\n",
       "      <td>0.048232</td>\n",
       "      <td>0.173930</td>\n",
       "      <td>0.010948</td>\n",
       "    </tr>\n",
       "    <tr>\n",
       "      <th>27x19</th>\n",
       "      <td>0.014120</td>\n",
       "      <td>0.435252</td>\n",
       "      <td>0.119446</td>\n",
       "      <td>0.127977</td>\n",
       "      <td>0.121409</td>\n",
       "      <td>0.175693</td>\n",
       "      <td>0.000000</td>\n",
       "    </tr>\n",
       "    <tr>\n",
       "      <th>27x20</th>\n",
       "      <td>0.113603</td>\n",
       "      <td>0.223280</td>\n",
       "      <td>0.260601</td>\n",
       "      <td>0.124425</td>\n",
       "      <td>0.000000</td>\n",
       "      <td>0.272041</td>\n",
       "      <td>0.000000</td>\n",
       "    </tr>\n",
       "    <tr>\n",
       "      <th>27x21</th>\n",
       "      <td>0.010979</td>\n",
       "      <td>0.021642</td>\n",
       "      <td>0.558858</td>\n",
       "      <td>0.000000</td>\n",
       "      <td>0.198682</td>\n",
       "      <td>0.204647</td>\n",
       "      <td>0.000000</td>\n",
       "    </tr>\n",
       "    <tr>\n",
       "      <th>27x22</th>\n",
       "      <td>0.057153</td>\n",
       "      <td>0.028455</td>\n",
       "      <td>0.765650</td>\n",
       "      <td>0.000000</td>\n",
       "      <td>0.000000</td>\n",
       "      <td>0.148102</td>\n",
       "      <td>0.000000</td>\n",
       "    </tr>\n",
       "  </tbody>\n",
       "</table>\n",
       "<p>293 rows × 7 columns</p>\n",
       "</div>"
      ],
      "text/plain": [
       "              T       Mal         B     Macro      Endo       CAF        NK\n",
       "7x15   0.095537  0.566322  0.224578  0.070551  0.000000  0.040718  0.000000\n",
       "7x16   0.059581  0.325888  0.024010  0.227185  0.093467  0.178023  0.091846\n",
       "7x17   0.000000  0.280831  0.233439  0.176961  0.074554  0.224734  0.000000\n",
       "7x18   0.025566  0.652917  0.165768  0.154224  0.000000  0.000000  0.000000\n",
       "8x13   0.017637  0.396012  0.312775  0.081524  0.000000  0.189869  0.000000\n",
       "...         ...       ...       ...       ...       ...       ...       ...\n",
       "27x18  0.010045  0.367056  0.233389  0.156401  0.048232  0.173930  0.010948\n",
       "27x19  0.014120  0.435252  0.119446  0.127977  0.121409  0.175693  0.000000\n",
       "27x20  0.113603  0.223280  0.260601  0.124425  0.000000  0.272041  0.000000\n",
       "27x21  0.010979  0.021642  0.558858  0.000000  0.198682  0.204647  0.000000\n",
       "27x22  0.057153  0.028455  0.765650  0.000000  0.000000  0.148102  0.000000\n",
       "\n",
       "[293 rows x 7 columns]"
      ]
     },
     "execution_count": 9,
     "metadata": {},
     "output_type": "execute_result"
    }
   ],
   "source": [
    "pre"
   ]
  },
  {
   "cell_type": "code",
   "execution_count": 10,
   "id": "305748ad",
   "metadata": {},
   "outputs": [],
   "source": [
    "output_file_path = \"/home/comp/cszrwang/results/Deconvolution/results/Melanoma/SPACEL/\""
   ]
  },
  {
   "cell_type": "code",
   "execution_count": 11,
   "id": "f30893d3",
   "metadata": {},
   "outputs": [],
   "source": [
    "pre.to_csv(output_file_path + '/SPACEL_result.csv')"
   ]
  },
  {
   "cell_type": "code",
   "execution_count": 12,
   "id": "18667a50",
   "metadata": {},
   "outputs": [],
   "source": [
    "st_ad_show = spoint_model.st_ad"
   ]
  },
  {
   "cell_type": "code",
   "execution_count": 13,
   "id": "8073e42d",
   "metadata": {},
   "outputs": [
    {
     "data": {
      "text/plain": [
       "AnnData object with n_obs × n_vars = 737 × 27\n",
       "    obs: 'index', 'x', 'y', 'n_genes', 'batch', 'L4/5 IT CTX', 'L2/3 IT CTX-1', 'L6 IT CTX', 'L6b CTX', 'L6 CT CTX', 'Vip', 'L5 IT CTX', 'L5 NP CTX', 'Lamp5', 'Sst', 'L5 PT CTX'\n",
       "    var: 'n_cells'\n",
       "    uns: 'celltypes'\n",
       "    layers: 'norm'"
      ]
     },
     "execution_count": 13,
     "metadata": {},
     "output_type": "execute_result"
    }
   ],
   "source": [
    "st_ad_show"
   ]
  }
 ],
 "metadata": {
  "kernelspec": {
   "display_name": "SPACEL",
   "language": "python",
   "name": "spacel"
  },
  "language_info": {
   "codemirror_mode": {
    "name": "ipython",
    "version": 3
   },
   "file_extension": ".py",
   "mimetype": "text/x-python",
   "name": "python",
   "nbconvert_exporter": "python",
   "pygments_lexer": "ipython3",
   "version": "3.8.18"
  }
 },
 "nbformat": 4,
 "nbformat_minor": 5
}
