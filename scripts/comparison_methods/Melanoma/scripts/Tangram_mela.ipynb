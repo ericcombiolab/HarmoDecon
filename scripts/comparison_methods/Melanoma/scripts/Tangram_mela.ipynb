{
 "cells": [
  {
   "cell_type": "code",
   "execution_count": 1,
   "id": "c0fdc79d",
   "metadata": {},
   "outputs": [],
   "source": [
    "# basic imports\n",
    "import pandas as pd\n",
    "import sys\n",
    "import numpy as np\n",
    "import pandas as pd\n",
    "import scanpy as sc\n",
    "\n",
    "# add `Tangram` to path\n",
    "import tangram as tg\n",
    "import os"
   ]
  },
  {
   "cell_type": "code",
   "execution_count": 2,
   "id": "5387bd74",
   "metadata": {},
   "outputs": [],
   "source": [
    "## setting for STARmap\n",
    "sc_file_path = \"/home/comp/cszrwang/data/Melanoma/sc_mela.h5ad\"\n",
    "spatial_file_path = \"/home/comp/cszrwang/data/Melanoma/st_mela.h5ad\"\n",
    "celltype_key = 'celltype'\n",
    "output_file_path = \"/home/comp/cszrwang/results/Deconvolution/results/Melanoma//Tangram/\"\n",
    "if not os.path.exists(output_file_path):\n",
    "    os.mkdir(output_file_path)"
   ]
  },
  {
   "cell_type": "code",
   "execution_count": 3,
   "id": "3796f39d",
   "metadata": {},
   "outputs": [
    {
     "name": "stdout",
     "output_type": "stream",
     "text": [
      "Drop celltype [] contain less 2 sample\n",
      "WARNING: Default of the method has been changed to 't-test' from 't-test_overestim_var'\n",
      "            B     CAF    Endo    Macro       Mal        NK          T\n",
      "0       CD79A  COL1A1  IGFBP7   TYROBP     S100B      PRF1       CD3D\n",
      "1     HLA-DRA   CALD1   HYAL2   FCER1G  SERPINE2      NKG7        CD2\n",
      "2       MS4A1  COL1A2     APP    IFI30      PLP1      CTSW       IL32\n",
      "3    HLA-DPA1   FSTL1  IFITM3     AIF1     PRAME     IL2RB       CD3E\n",
      "4        CD74   SPARC   EGFL7     CD68     GPNMB     KLRD1       CD3G\n",
      "..        ...     ...     ...      ...       ...       ...        ...\n",
      "195     DAPP1     VCL     A2M     CSTA     CRTAP    L2HGDH      AKAP5\n",
      "196     FCRL5  AMOTL2   FLOT1  SH3BGRL    ARPC1A     KDM4C  RAMP2-AS1\n",
      "197     PTPN6  PGRMC1  GPR146   SAMHD1     MGST3  TNFRSF18        ID2\n",
      "198      GRB2    UGDH  GPRC5B     LAT2     CSAG1       SHE   ARHGAP15\n",
      "199      RPS7   FSCN1    DLC1     DOK3     AIF1L     ITGAM      IKZF1\n",
      "\n",
      "[200 rows x 7 columns]\n",
      "['A2M' 'AAK1' 'ABCA1' ... 'ZNF521' 'ZNF793' 'ZYX']\n"
     ]
    }
   ],
   "source": [
    "ad_sc = sc.read_h5ad(sc_file_path)\n",
    "ad_sp = sc.read_h5ad(spatial_file_path)\n",
    "\n",
    "# use raw count both of scrna and spatial\n",
    "sc.pp.normalize_total(ad_sc)\n",
    "celltype_counts = ad_sc.obs[celltype_key].value_counts()\n",
    "celltype_drop = celltype_counts.index[celltype_counts < 2]\n",
    "print(f'Drop celltype {list(celltype_drop)} contain less 2 sample')\n",
    "ad_sc = ad_sc[~ad_sc.obs[celltype_key].isin(celltype_drop),].copy()\n",
    "sc.tl.rank_genes_groups(ad_sc, groupby=celltype_key, use_raw=False)\n",
    "markers_df = pd.DataFrame(ad_sc.uns[\"rank_genes_groups\"][\"names\"]).iloc[0:200, :]\n",
    "print(markers_df)\n",
    "genes_sc = np.unique(markers_df.melt().value.values)\n",
    "print(genes_sc)\n",
    "genes_st = ad_sp.var_names.values\n",
    "genes = list(set(genes_sc).intersection(set(genes_st)))"
   ]
  },
  {
   "cell_type": "code",
   "execution_count": 4,
   "id": "c60e0506",
   "metadata": {},
   "outputs": [
    {
     "name": "stderr",
     "output_type": "stream",
     "text": [
      "INFO:root:1145 training genes are saved in `uns``training_genes` of both single cell and spatial Anndatas.\n",
      "INFO:root:14517 overlapped genes are saved in `uns``overlap_genes` of both single cell and spatial Anndatas.\n",
      "INFO:root:uniform based density prior is calculated and saved in `obs``uniform_density` of the spatial Anndata.\n",
      "INFO:root:rna count based density prior is calculated and saved in `obs``rna_count_based_density` of the spatial Anndata.\n",
      "INFO:root:Allocate tensors for mapping.\n",
      "INFO:root:Begin training with 1145 genes and rna_count_based density_prior in clusters mode...\n",
      "INFO:root:Printing scores every 100 epochs.\n"
     ]
    },
    {
     "name": "stdout",
     "output_type": "stream",
     "text": [
      "Score: 0.323, KL reg: 0.460\n",
      "Score: 0.566, KL reg: 0.003\n",
      "Score: 0.567, KL reg: 0.003\n",
      "Score: 0.568, KL reg: 0.003\n",
      "Score: 0.568, KL reg: 0.003\n",
      "Score: 0.568, KL reg: 0.003\n",
      "Score: 0.568, KL reg: 0.003\n",
      "Score: 0.568, KL reg: 0.003\n",
      "Score: 0.568, KL reg: 0.003\n",
      "Score: 0.568, KL reg: 0.003\n"
     ]
    },
    {
     "name": "stderr",
     "output_type": "stream",
     "text": [
      "INFO:root:Saving results..\n",
      "INFO:root:spatial prediction dataframe is saved in `obsm` `tangram_ct_pred` of the spatial AnnData.\n"
     ]
    }
   ],
   "source": [
    "tg.pp_adatas(ad_sc, ad_sp, genes=genes)\n",
    "\n",
    "ad_map = tg.map_cells_to_space(\n",
    "                   ad_sc,\n",
    "                   ad_sp,\n",
    "                   mode='clusters',\n",
    "                   cluster_label=celltype_key)\n",
    "\n",
    "# ad_map = tg.map_cells_to_space(\n",
    "#                    ad_sc,\n",
    "#                    ad_sp,\n",
    "#                    mode=\"constrained\",\n",
    "#                    target_count=ad_sp.obs.cell_count.sum(),\n",
    "#                    density_prior=np.array(ad_sp.obs.cell_count) / ad_sp.obs.cell_count.sum(),\n",
    "#                    num_epochs=1000,\n",
    "#                    cluster_label=celltype_key)\n",
    "\n",
    "tg.project_cell_annotations(ad_map, ad_sp, annotation=celltype_key)\n",
    "\n",
    "celltype_density = ad_sp.obsm['tangram_ct_pred']\n",
    "celltype_density = (celltype_density.T/celltype_density.sum(axis=1)).T\n",
    "\n",
    "celltype_density.to_csv(output_file_path + '/Tangram_result.csv')"
   ]
  }
 ],
 "metadata": {
  "kernelspec": {
   "display_name": "dl_transformers",
   "language": "python",
   "name": "dl_transformers"
  },
  "language_info": {
   "codemirror_mode": {
    "name": "ipython",
    "version": 3
   },
   "file_extension": ".py",
   "mimetype": "text/x-python",
   "name": "python",
   "nbconvert_exporter": "python",
   "pygments_lexer": "ipython3",
   "version": "3.9.2"
  }
 },
 "nbformat": 4,
 "nbformat_minor": 5
}
