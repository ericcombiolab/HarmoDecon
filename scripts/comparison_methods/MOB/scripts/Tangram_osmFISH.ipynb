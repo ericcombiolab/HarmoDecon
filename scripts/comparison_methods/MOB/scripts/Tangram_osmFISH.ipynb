{
 "cells": [
  {
   "cell_type": "code",
   "execution_count": 1,
   "id": "3d9ff0bb",
   "metadata": {},
   "outputs": [],
   "source": [
    "import scanpy as sc\n",
    "import squidpy as sq\n",
    "import numpy as np\n",
    "import pandas as pd\n",
    "import anndata as ad\n",
    "from anndata import AnnData\n",
    "import pathlib\n",
    "import matplotlib.pyplot as plt\n",
    "import matplotlib as mpl\n",
    "import skimage\n",
    "import os\n",
    "import time"
   ]
  },
  {
   "cell_type": "code",
   "execution_count": 2,
   "id": "f5adaf8f",
   "metadata": {},
   "outputs": [],
   "source": [
    "# import tangram for spatial deconvolution\n",
    "import tangram as tg"
   ]
  },
  {
   "cell_type": "code",
   "execution_count": 27,
   "id": "5d40a71b",
   "metadata": {},
   "outputs": [],
   "source": [
    "stdir = \"/home/comp/cszrwang/data/osmfish/\"\n",
    "stfile = 'osmfish.st.cnt.genexrow.tsv'\n",
    "cellfile = \"osmfish.cell_proportion.txt\"\n",
    "\n",
    "scdir = \"/home/comp/cszrwang/data/osmfish/SSp_ref/external/\"\n",
    "reffile = \"sc_cnt.33gene.5392cell.genexrow.tsv\"\n",
    "metafile = \"sc_mta.5392cell.tsv\"\n",
    "\n",
    "resultdir = \"./Tangram/\"\n",
    "resultfile = \"osmfish.tangram.csv\"\n",
    "result_cellfile = \"osmfish.tangram.csv\"\n",
    "if not os.path.exists(resultdir):\n",
    "    os.mkdir(resultdir)"
   ]
  },
  {
   "cell_type": "code",
   "execution_count": 4,
   "id": "bff77751",
   "metadata": {},
   "outputs": [
    {
     "data": {
      "text/plain": [
       "AnnData object with n_obs × n_vars = 737 × 33"
      ]
     },
     "execution_count": 4,
     "metadata": {},
     "output_type": "execute_result"
    }
   ],
   "source": [
    "# read in ST data\n",
    "st = pd.read_csv(stdir + stfile, sep='\\t', index_col=0)\n",
    "st = st.transpose()\n",
    "adata_st = AnnData(st)\n",
    "adata_st"
   ]
  },
  {
   "cell_type": "code",
   "execution_count": 5,
   "id": "472da755",
   "metadata": {},
   "outputs": [],
   "source": [
    "## append cell count for each spot\n",
    "cell = pd.read_csv(stdir + cellfile, sep='\\t', index_col=0)\n",
    "adata_st.obs = adata_st.obs.merge(cell.sum(axis = 1).to_frame(name=\"cell_count\"), how = 'outer', left_index = True, right_index = True)\n",
    "\n",
    "## create spatial coordinates information\n",
    "spatial_coord = adata_st.obs.reset_index()['index'].str.split('_', expand = True).to_numpy().astype(int)\n",
    "spatial_coord[:,0] = spatial_coord[:,0] + spatial_coord[:,1]\n",
    "spatial_coord = spatial_coord[:, 0:2]\n",
    "adata_st.obsm['spatial'] = spatial_coord\n",
    "\n",
    "centroid = pd.Series(index = adata_st.obs.index, dtype = \"object\")\n",
    "for i in range(len(centroid)):\n",
    "    centroid[i] = np.tile(spatial_coord[i], (adata_st.obs.cell_count[i],1))\n",
    "\n",
    "adata_st.obsm['image_features'] = cell.sum(axis = 1).to_frame(name=\"segmentation_label\").merge(centroid.to_frame(name = \"segmentation_centroid\"),left_index = True, right_index = True)"
   ]
  },
  {
   "cell_type": "code",
   "execution_count": 6,
   "id": "e2909c2b",
   "metadata": {},
   "outputs": [
    {
     "data": {
      "text/plain": [
       "array([[28000, 27600],\n",
       "       [28800, 28400],\n",
       "       [29600, 29200],\n",
       "       ...,\n",
       "       [58400, 35600],\n",
       "       [60000, 37200],\n",
       "       [60800, 37200]])"
      ]
     },
     "execution_count": 6,
     "metadata": {},
     "output_type": "execute_result"
    }
   ],
   "source": [
    "spatial_coord"
   ]
  },
  {
   "cell_type": "code",
   "execution_count": 21,
   "id": "4c7c7e3a",
   "metadata": {},
   "outputs": [
    {
     "name": "stderr",
     "output_type": "stream",
     "text": [
      "INFO:root:33 training genes are saved in `uns``training_genes` of both single cell and spatial Anndatas.\n",
      "INFO:root:33 overlapped genes are saved in `uns``overlap_genes` of both single cell and spatial Anndatas.\n",
      "INFO:root:uniform based density prior is calculated and saved in `obs``uniform_density` of the spatial Anndata.\n",
      "INFO:root:rna count based density prior is calculated and saved in `obs``rna_count_based_density` of the spatial Anndata.\n"
     ]
    }
   ],
   "source": [
    "# Read in scRNA-seq data\n",
    "scdat = pd.read_csv(scdir + reffile, sep='\\t', index_col=0)\n",
    "adata_sc = AnnData(scdat.T)\n",
    "\n",
    "sc_meta = pd.read_csv(scdir + metafile, sep='\\t')\n",
    "sc_meta.set_index('sample_name', inplace = True)\n",
    "sc_meta.index = sc_meta.index.astype('str')\n",
    "adata_sc.obs = adata_sc.obs.merge(sc_meta, how = 'left', left_index=True, right_index=True)\n",
    "adata_sc.obs[\"bio_celltype\"] = pd.Categorical(adata_sc.obs['bio_celltype'])\n",
    "adata_sc\n",
    "\n",
    "start_time = time.time()\n",
    "# preprocessing: find the common genes between sc and st\n",
    "tg.pp_adatas(adata_sc, adata_st)"
   ]
  },
  {
   "cell_type": "code",
   "execution_count": 32,
   "id": "281b37a3",
   "metadata": {},
   "outputs": [
    {
     "name": "stderr",
     "output_type": "stream",
     "text": [
      "INFO:root:Allocate tensors for mapping.\n",
      "INFO:root:Begin training with 33 genes and customized density_prior in constrained mode...\n"
     ]
    },
    {
     "name": "stdout",
     "output_type": "stream",
     "text": [
      "Score: 0.619, KL reg: 0.163, Count reg: 1139.114, Lambda f reg: 1109.579\n",
      "Score: 0.995, KL reg: 0.000, Count reg: 0.002, Lambda f reg: 173.983\n",
      "Score: 0.998, KL reg: 0.000, Count reg: 0.072, Lambda f reg: 51.820\n",
      "Score: 0.998, KL reg: 0.000, Count reg: 0.041, Lambda f reg: 34.808\n",
      "Score: 0.998, KL reg: 0.000, Count reg: 0.142, Lambda f reg: 29.927\n",
      "Score: 0.999, KL reg: 0.000, Count reg: 0.078, Lambda f reg: 23.930\n",
      "Score: 0.999, KL reg: 0.000, Count reg: 0.158, Lambda f reg: 21.380\n",
      "Score: 0.999, KL reg: 0.000, Count reg: 0.117, Lambda f reg: 18.938\n",
      "Score: 0.999, KL reg: 0.000, Count reg: 0.228, Lambda f reg: 18.325\n",
      "Score: 0.999, KL reg: 0.000, Count reg: 0.135, Lambda f reg: 15.487\n"
     ]
    },
    {
     "name": "stderr",
     "output_type": "stream",
     "text": [
      "INFO:root:Saving results..\n"
     ]
    }
   ],
   "source": [
    "# 用了额外的信息！！！！\n",
    "# Deconvolution\n",
    "ad_map = tg.map_cells_to_space(\n",
    "    adata_sc,\n",
    "    adata_st,\n",
    "    mode=\"constrained\",\n",
    "    target_count=adata_st.obs.cell_count.sum(),\n",
    "    density_prior=np.array(adata_st.obs.cell_count) / adata_st.obs.cell_count.sum(),\n",
    "    num_epochs=1000,\n",
    "    device=\"cuda:0\",\n",
    "    #device='cpu',\n",
    ")"
   ]
  },
  {
   "cell_type": "code",
   "execution_count": 33,
   "id": "a6f67ab2",
   "metadata": {},
   "outputs": [
    {
     "name": "stderr",
     "output_type": "stream",
     "text": [
      "INFO:root:spatial prediction dataframe is saved in `obsm` `tangram_ct_pred` of the spatial AnnData.\n"
     ]
    },
    {
     "name": "stdout",
     "output_type": "stream",
     "text": [
      "--- 1581.73 seconds ---\n"
     ]
    }
   ],
   "source": [
    "# Gather deconvolution results\n",
    "## map the cell type information to the st AnnData object\n",
    "## The output created is the unnormalized probability matrix\n",
    "tg.project_cell_annotations(ad_map, adata_st, annotation=\"bio_celltype\")\n",
    "end_time = time.time()\n",
    "print(\"--- %.2f seconds ---\" % (time.time() - start_time))"
   ]
  },
  {
   "cell_type": "code",
   "execution_count": 34,
   "id": "3f9ea8a7",
   "metadata": {},
   "outputs": [
    {
     "name": "stderr",
     "output_type": "stream",
     "text": [
      "INFO:root:cell segmentation dataframe is saved in `uns` `tangram_cell_segmentation` of the spatial AnnData.\n",
      "INFO:root:spot centroids is saved in `obsm` `tangram_spot_centroids` of the spatial AnnData.\n",
      "INFO:root:spatial cell count dataframe is saved in `obsm` `tangram_ct_count` of the spatial AnnData.\n"
     ]
    }
   ],
   "source": [
    "## normalize the probability matrix and save as csv\n",
    "prob_mat = adata_st.obsm[\"tangram_ct_pred\"]\n",
    "prob_mat = prob_mat.div(prob_mat.sum(axis=1), axis=0)\n",
    "prob_mat.to_csv(resultdir + resultfile, sep = '\\t')\n",
    "\n",
    "\n",
    "## create cell-level mapping assignments\n",
    "tg.create_segment_cell_df(adata_st)\n",
    "tg.count_cell_annotations(\n",
    "    ad_map,\n",
    "    adata_sc,\n",
    "    adata_st,\n",
    "    annotation=\"bio_celltype\",\n",
    ")\n",
    "adata_st.obsm[\"tangram_ct_count\"].drop(columns = ['centroids']).to_csv(resultdir + result_cellfile)"
   ]
  }
 ],
 "metadata": {
  "kernelspec": {
   "display_name": "dl_transformers",
   "language": "python",
   "name": "dl_transformers"
  },
  "language_info": {
   "codemirror_mode": {
    "name": "ipython",
    "version": 3
   },
   "file_extension": ".py",
   "mimetype": "text/x-python",
   "name": "python",
   "nbconvert_exporter": "python",
   "pygments_lexer": "ipython3",
   "version": "3.9.2"
  }
 },
 "nbformat": 4,
 "nbformat_minor": 5
}
