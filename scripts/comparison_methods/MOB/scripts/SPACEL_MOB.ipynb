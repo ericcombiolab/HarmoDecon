{
 "cells": [
  {
   "cell_type": "code",
   "execution_count": 1,
   "id": "5df422e2",
   "metadata": {},
   "outputs": [],
   "source": [
    "import os\n",
    "\n",
    "os.environ['R_HOME'] = '/home/comp/cszrwang/anaconda3/envs/SPACEL/lib/R'"
   ]
  },
  {
   "cell_type": "code",
   "execution_count": 2,
   "id": "47e1f809",
   "metadata": {},
   "outputs": [
    {
     "name": "stdout",
     "output_type": "stream",
     "text": [
      "Setting environment seed: 42\n"
     ]
    },
    {
     "name": "stderr",
     "output_type": "stream",
     "text": [
      "/home/comp/cszrwang/anaconda3/envs/SPACEL/lib/python3.8/site-packages/tqdm/auto.py:21: TqdmWarning: IProgress not found. Please update jupyter and ipywidgets. See https://ipywidgets.readthedocs.io/en/stable/user_install.html\n",
      "  from .autonotebook import tqdm as notebook_tqdm\n",
      "Global seed set to 0\n"
     ]
    }
   ],
   "source": [
    "from SPACEL.setting import set_environ_seed\n",
    "set_environ_seed()\n",
    "from SPACEL import Spoint\n",
    "import scanpy as sc\n",
    "import numpy as np\n",
    "import matplotlib\n",
    "matplotlib.rcParams['pdf.fonttype'] = 42\n",
    "matplotlib.rcParams['ps.fonttype'] = 42\n",
    "matplotlib.rcParams['font.serif'] = ['Arial']\n",
    "sc.settings.set_figure_params(dpi=50,dpi_save=300,facecolor='white',fontsize=10,vector_friendly=True,figsize=(3,3))\n",
    "sc.settings.verbosity = 3"
   ]
  },
  {
   "cell_type": "code",
   "execution_count": 3,
   "id": "6f5ec0da",
   "metadata": {},
   "outputs": [],
   "source": [
    "sc_ad = sc.read_h5ad('/home/comp/cszrwang/data/MOB/mob_sc_celltype.h5ad')\n",
    "st_ad = sc.read_h5ad('/home/comp/cszrwang/data/MOB/mob_st.h5ad')\n",
    "\n",
    "sc.pp.filter_genes(st_ad,min_cells=1)\n",
    "sc.pp.filter_genes(sc_ad,min_cells=1)\n",
    "sc.pp.filter_cells(st_ad,min_genes=1)\n",
    "sc.pp.filter_cells(sc_ad,min_genes=1)"
   ]
  },
  {
   "cell_type": "code",
   "execution_count": 4,
   "id": "32ffbfac",
   "metadata": {},
   "outputs": [
    {
     "data": {
      "text/plain": [
       "WT1_AAACCTGAGCTGCGAA      GC\n",
       "WT1_AAACCTGGTTTGGCGC      GC\n",
       "WT1_AAACGGGAGATCCGAG      GC\n",
       "WT1_AAACGGGGTAAGTGGC      GC\n",
       "WT1_AAAGATGTCATCGGAT     PGC\n",
       "                        ... \n",
       "OC2_TAAGTGCGTTTGTTGG    M/TC\n",
       "OC2_TACGGTAGTAAATGTG    M/TC\n",
       "OC2_TACTTACGTAGGCATG    M/TC\n",
       "OC2_TAGTTGGTCGCGATCG    M/TC\n",
       "OC2_TTGCGTCAGGATCGCA    M/TC\n",
       "Name: celltype, Length: 12801, dtype: category\n",
       "Categories (5, object): ['EPL-IN', 'GC', 'M/TC', 'OSNs', 'PGC']"
      ]
     },
     "execution_count": 4,
     "metadata": {},
     "output_type": "execute_result"
    }
   ],
   "source": [
    "sc_ad.obs['celltype']"
   ]
  },
  {
   "cell_type": "code",
   "execution_count": 5,
   "id": "c3c6e30b",
   "metadata": {},
   "outputs": [
    {
     "name": "stdout",
     "output_type": "stream",
     "text": [
      "Setting global seed: 42\n",
      "normalizing counts per cell\n",
      "    finished (0:00:00)\n",
      "normalizing counts per cell\n",
      "    finished (0:00:00)\n",
      "### Finding marker genes...\n",
      "ranking genes\n",
      "    finished: added to `.uns['rank_genes_groups']`\n",
      "    'names', sorted np.recarray to be indexed by group ids\n",
      "    'scores', sorted np.recarray to be indexed by group ids\n",
      "    'logfoldchanges', sorted np.recarray to be indexed by group ids\n",
      "    'pvals', sorted np.recarray to be indexed by group ids\n",
      "    'pvals_adj', sorted np.recarray to be indexed by group ids (0:00:01)\n",
      "celltype\n",
      "EPL-IN    200\n",
      "GC        200\n",
      "M/TC      200\n",
      "PGC       200\n",
      "OSNs      178\n",
      "Name: count, dtype: int64\n",
      "filtered out 2 cells that have less than 1 genes expressed\n",
      "### Used gene numbers: 909\n",
      "### Initializing sample probability\n",
      "### Genetating simulated spatial data using scRNA data with mode: unbalance\n",
      "### Genetating simulated spatial data using scRNA data with mode: sqrt\n",
      "### Genetating simulated spatial data using scRNA data with mode: balance\n"
     ]
    }
   ],
   "source": [
    "spoint_model = Spoint.init_model(sc_ad,st_ad,celltype_key='celltype',deg_method='t-test',sm_size=100000,use_gpu=True)"
   ]
  },
  {
   "cell_type": "code",
   "execution_count": 6,
   "id": "6a61f07a",
   "metadata": {},
   "outputs": [
    {
     "name": "stderr",
     "output_type": "stream",
     "text": [
      "No GPU/TPU found, falling back to CPU. (Set TF_CPP_MIN_LOG_LEVEL=0 and rerun for more info.)\n",
      "/home/comp/cszrwang/anaconda3/envs/SPACEL/lib/python3.8/site-packages/scvi/data/fields/_layer_field.py:90: UserWarning: adata.layers[counts] does not contain unnormalized count data. Are you sure this is what you want?\n",
      "  warnings.warn(\n",
      "GPU available: True (cuda), used: True\n",
      "TPU available: False, using: 0 TPU cores\n",
      "IPU available: False, using: 0 IPUs\n",
      "HPU available: False, using: 0 HPUs\n",
      "You are using a CUDA device ('NVIDIA A100 80GB PCIe') that has Tensor Cores. To properly utilize them, you should set `torch.set_float32_matmul_precision('medium' | 'high')` which will trade-off precision for performance. For more details, read https://pytorch.org/docs/stable/generated/torch.set_float32_matmul_precision.html#torch.set_float32_matmul_precision\n",
      "LOCAL_RANK: 0 - CUDA_VISIBLE_DEVICES: [0,1]\n"
     ]
    },
    {
     "name": "stdout",
     "output_type": "stream",
     "text": [
      "Epoch 1/100:   0%|                                                                                                                              | 0/100 [00:00<?, ?it/s]"
     ]
    },
    {
     "name": "stderr",
     "output_type": "stream",
     "text": [
      "/home/comp/cszrwang/anaconda3/envs/SPACEL/lib/python3.8/site-packages/scvi/distributions/_negative_binomial.py:476: UserWarning: The value argument must be within the support of the distribution\n",
      "  warnings.warn(\n",
      "/home/comp/cszrwang/anaconda3/envs/SPACEL/lib/python3.8/site-packages/scvi/distributions/_negative_binomial.py:476: UserWarning: The value argument must be within the support of the distribution\n",
      "  warnings.warn(\n"
     ]
    },
    {
     "name": "stdout",
     "output_type": "stream",
     "text": [
      "Epoch 2/100:   1%|▉                                                                                             | 1/100 [00:01<02:16,  1.38s/it, loss=1.65e+03, v_num=1]"
     ]
    },
    {
     "name": "stderr",
     "output_type": "stream",
     "text": [
      "/home/comp/cszrwang/anaconda3/envs/SPACEL/lib/python3.8/site-packages/scvi/distributions/_negative_binomial.py:476: UserWarning: The value argument must be within the support of the distribution\n",
      "  warnings.warn(\n"
     ]
    },
    {
     "name": "stdout",
     "output_type": "stream",
     "text": [
      "Epoch 100/100: 100%|██████████████████████████████████████████████████████████████████████████████████████████| 100/100 [01:10<00:00,  1.51it/s, loss=1.28e+03, v_num=1]"
     ]
    },
    {
     "name": "stderr",
     "output_type": "stream",
     "text": [
      "`Trainer.fit` stopped: `max_epochs=100` reached.\n"
     ]
    },
    {
     "name": "stdout",
     "output_type": "stream",
     "text": [
      "Epoch 100/100: 100%|██████████████████████████████████████████████████████████████████████████████████████████| 100/100 [01:10<00:00,  1.41it/s, loss=1.28e+03, v_num=1]\n"
     ]
    },
    {
     "name": "stderr",
     "output_type": "stream",
     "text": [
      "Step 5000: Test inference loss=-0.950: 100%|████████████████████████████████████████████████████████████████████████████████████████| 5000/5000 [21:23<00:00,  3.90it/s]\n"
     ]
    }
   ],
   "source": [
    "spoint_model.train(max_steps=5000, batch_size=1024)"
   ]
  },
  {
   "cell_type": "code",
   "execution_count": 7,
   "id": "5e711cdb",
   "metadata": {},
   "outputs": [],
   "source": [
    "pre = spoint_model.deconv_spatial()"
   ]
  },
  {
   "cell_type": "code",
   "execution_count": 8,
   "id": "4afc4c4c",
   "metadata": {},
   "outputs": [
    {
     "data": {
      "text/html": [
       "<div>\n",
       "<style scoped>\n",
       "    .dataframe tbody tr th:only-of-type {\n",
       "        vertical-align: middle;\n",
       "    }\n",
       "\n",
       "    .dataframe tbody tr th {\n",
       "        vertical-align: top;\n",
       "    }\n",
       "\n",
       "    .dataframe thead th {\n",
       "        text-align: right;\n",
       "    }\n",
       "</style>\n",
       "<table border=\"1\" class=\"dataframe\">\n",
       "  <thead>\n",
       "    <tr style=\"text-align: right;\">\n",
       "      <th></th>\n",
       "      <th>GC</th>\n",
       "      <th>PGC</th>\n",
       "      <th>OSNs</th>\n",
       "      <th>M/TC</th>\n",
       "      <th>EPL-IN</th>\n",
       "    </tr>\n",
       "  </thead>\n",
       "  <tbody>\n",
       "    <tr>\n",
       "      <th>17x17</th>\n",
       "      <td>0.790429</td>\n",
       "      <td>0.000000</td>\n",
       "      <td>0.000000</td>\n",
       "      <td>0.174712</td>\n",
       "      <td>0.027894</td>\n",
       "    </tr>\n",
       "    <tr>\n",
       "      <th>18x17</th>\n",
       "      <td>0.121071</td>\n",
       "      <td>0.222687</td>\n",
       "      <td>0.033223</td>\n",
       "      <td>0.406782</td>\n",
       "      <td>0.216237</td>\n",
       "    </tr>\n",
       "    <tr>\n",
       "      <th>20x17</th>\n",
       "      <td>0.165138</td>\n",
       "      <td>0.056000</td>\n",
       "      <td>0.248388</td>\n",
       "      <td>0.357678</td>\n",
       "      <td>0.172796</td>\n",
       "    </tr>\n",
       "    <tr>\n",
       "      <th>19x17</th>\n",
       "      <td>0.177339</td>\n",
       "      <td>0.055705</td>\n",
       "      <td>0.258092</td>\n",
       "      <td>0.297724</td>\n",
       "      <td>0.211141</td>\n",
       "    </tr>\n",
       "    <tr>\n",
       "      <th>22x17</th>\n",
       "      <td>0.337095</td>\n",
       "      <td>0.000000</td>\n",
       "      <td>0.000000</td>\n",
       "      <td>0.639230</td>\n",
       "      <td>0.017492</td>\n",
       "    </tr>\n",
       "    <tr>\n",
       "      <th>...</th>\n",
       "      <td>...</td>\n",
       "      <td>...</td>\n",
       "      <td>...</td>\n",
       "      <td>...</td>\n",
       "      <td>...</td>\n",
       "    </tr>\n",
       "    <tr>\n",
       "      <th>19x27</th>\n",
       "      <td>0.229130</td>\n",
       "      <td>0.215519</td>\n",
       "      <td>0.014663</td>\n",
       "      <td>0.304568</td>\n",
       "      <td>0.236120</td>\n",
       "    </tr>\n",
       "    <tr>\n",
       "      <th>28x27</th>\n",
       "      <td>0.163427</td>\n",
       "      <td>0.360567</td>\n",
       "      <td>0.000000</td>\n",
       "      <td>0.288859</td>\n",
       "      <td>0.185020</td>\n",
       "    </tr>\n",
       "    <tr>\n",
       "      <th>24x29</th>\n",
       "      <td>0.206729</td>\n",
       "      <td>0.278373</td>\n",
       "      <td>0.000000</td>\n",
       "      <td>0.315397</td>\n",
       "      <td>0.199299</td>\n",
       "    </tr>\n",
       "    <tr>\n",
       "      <th>25x29</th>\n",
       "      <td>0.182138</td>\n",
       "      <td>0.313323</td>\n",
       "      <td>0.000000</td>\n",
       "      <td>0.298607</td>\n",
       "      <td>0.205827</td>\n",
       "    </tr>\n",
       "    <tr>\n",
       "      <th>30x19</th>\n",
       "      <td>0.104385</td>\n",
       "      <td>0.096224</td>\n",
       "      <td>0.146970</td>\n",
       "      <td>0.370859</td>\n",
       "      <td>0.281563</td>\n",
       "    </tr>\n",
       "  </tbody>\n",
       "</table>\n",
       "<p>280 rows × 5 columns</p>\n",
       "</div>"
      ],
      "text/plain": [
       "             GC       PGC      OSNs      M/TC    EPL-IN\n",
       "17x17  0.790429  0.000000  0.000000  0.174712  0.027894\n",
       "18x17  0.121071  0.222687  0.033223  0.406782  0.216237\n",
       "20x17  0.165138  0.056000  0.248388  0.357678  0.172796\n",
       "19x17  0.177339  0.055705  0.258092  0.297724  0.211141\n",
       "22x17  0.337095  0.000000  0.000000  0.639230  0.017492\n",
       "...         ...       ...       ...       ...       ...\n",
       "19x27  0.229130  0.215519  0.014663  0.304568  0.236120\n",
       "28x27  0.163427  0.360567  0.000000  0.288859  0.185020\n",
       "24x29  0.206729  0.278373  0.000000  0.315397  0.199299\n",
       "25x29  0.182138  0.313323  0.000000  0.298607  0.205827\n",
       "30x19  0.104385  0.096224  0.146970  0.370859  0.281563\n",
       "\n",
       "[280 rows x 5 columns]"
      ]
     },
     "execution_count": 8,
     "metadata": {},
     "output_type": "execute_result"
    }
   ],
   "source": [
    "pre"
   ]
  },
  {
   "cell_type": "code",
   "execution_count": 9,
   "id": "305748ad",
   "metadata": {},
   "outputs": [],
   "source": [
    "output_file_path = \"/home/comp/cszrwang/results/Deconvolution/results/MOB/SPACEL/\""
   ]
  },
  {
   "cell_type": "code",
   "execution_count": 12,
   "id": "f30893d3",
   "metadata": {},
   "outputs": [],
   "source": [
    "pre.to_csv(output_file_path + '/SPACEL_result.csv')"
   ]
  },
  {
   "cell_type": "code",
   "execution_count": 13,
   "id": "18667a50",
   "metadata": {},
   "outputs": [],
   "source": [
    "st_ad_show = spoint_model.st_ad"
   ]
  },
  {
   "cell_type": "code",
   "execution_count": 14,
   "id": "8073e42d",
   "metadata": {},
   "outputs": [
    {
     "data": {
      "text/plain": [
       "AnnData object with n_obs × n_vars = 280 × 909\n",
       "    obs: 'index', 'x', 'y', 'n_genes', 'batch', 'GC', 'PGC', 'OSNs', 'M/TC', 'EPL-IN'\n",
       "    var: 'n_cells'\n",
       "    uns: 'celltypes'\n",
       "    layers: 'norm'"
      ]
     },
     "execution_count": 14,
     "metadata": {},
     "output_type": "execute_result"
    }
   ],
   "source": [
    "st_ad_show"
   ]
  }
 ],
 "metadata": {
  "kernelspec": {
   "display_name": "SPACEL",
   "language": "python",
   "name": "spacel"
  },
  "language_info": {
   "codemirror_mode": {
    "name": "ipython",
    "version": 3
   },
   "file_extension": ".py",
   "mimetype": "text/x-python",
   "name": "python",
   "nbconvert_exporter": "python",
   "pygments_lexer": "ipython3",
   "version": "3.8.18"
  }
 },
 "nbformat": 4,
 "nbformat_minor": 5
}
