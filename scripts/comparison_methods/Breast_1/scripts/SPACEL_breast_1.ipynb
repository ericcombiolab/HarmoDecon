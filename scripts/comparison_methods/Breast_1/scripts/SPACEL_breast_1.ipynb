{
 "cells": [
  {
   "cell_type": "code",
   "execution_count": 1,
   "id": "5df422e2",
   "metadata": {},
   "outputs": [],
   "source": [
    "import os\n",
    "\n",
    "os.environ['R_HOME'] = '/home/comp/cszrwang/anaconda3/envs/SPACEL/lib/R'"
   ]
  },
  {
   "cell_type": "code",
   "execution_count": 2,
   "id": "47e1f809",
   "metadata": {},
   "outputs": [
    {
     "name": "stdout",
     "output_type": "stream",
     "text": [
      "Setting environment seed: 42\n"
     ]
    },
    {
     "name": "stderr",
     "output_type": "stream",
     "text": [
      "/home/comp/cszrwang/anaconda3/envs/SPACEL/lib/python3.8/site-packages/tqdm/auto.py:21: TqdmWarning: IProgress not found. Please update jupyter and ipywidgets. See https://ipywidgets.readthedocs.io/en/stable/user_install.html\n",
      "  from .autonotebook import tqdm as notebook_tqdm\n",
      "Global seed set to 0\n"
     ]
    }
   ],
   "source": [
    "from SPACEL.setting import set_environ_seed\n",
    "set_environ_seed()\n",
    "from SPACEL import Spoint\n",
    "import scanpy as sc\n",
    "import numpy as np\n",
    "import matplotlib\n",
    "matplotlib.rcParams['pdf.fonttype'] = 42\n",
    "matplotlib.rcParams['ps.fonttype'] = 42\n",
    "matplotlib.rcParams['font.serif'] = ['Arial']\n",
    "sc.settings.set_figure_params(dpi=50,dpi_save=300,facecolor='white',fontsize=10,vector_friendly=True,figsize=(3,3))\n",
    "sc.settings.verbosity = 3"
   ]
  },
  {
   "cell_type": "code",
   "execution_count": 3,
   "id": "6f5ec0da",
   "metadata": {},
   "outputs": [],
   "source": [
    "sc_ad = sc.read_h5ad('/home/comp/cszrwang/data/Breast/spadecon/gm_input_sc.h5ad')\n",
    "st_ad = sc.read_h5ad('/home/comp/cszrwang/data/Breast/spadecon/gm_input_st.h5ad')\n",
    "\n",
    "sc.pp.filter_genes(st_ad,min_cells=1)\n",
    "sc.pp.filter_genes(sc_ad,min_cells=1)\n",
    "sc.pp.filter_cells(st_ad,min_genes=1)\n",
    "sc.pp.filter_cells(sc_ad,min_genes=1)"
   ]
  },
  {
   "cell_type": "code",
   "execution_count": 4,
   "id": "32ffbfac",
   "metadata": {},
   "outputs": [
    {
     "data": {
      "text/plain": [
       "0              Endothelial\n",
       "1              Endothelial\n",
       "2              Endothelial\n",
       "3              Endothelial\n",
       "4              Endothelial\n",
       "               ...        \n",
       "11482    Normal Epithelial\n",
       "11483    Normal Epithelial\n",
       "11484    Normal Epithelial\n",
       "11485    Normal Epithelial\n",
       "11486    Normal Epithelial\n",
       "Name: celltype, Length: 11487, dtype: category\n",
       "Categories (8, object): ['B-cells', 'CAFs', 'Cancer Epithelial', 'Endothelial', 'Myeloid', 'Normal Epithelial', 'PVL', 'T-cells']"
      ]
     },
     "execution_count": 4,
     "metadata": {},
     "output_type": "execute_result"
    }
   ],
   "source": [
    "sc_ad.obs['celltype']"
   ]
  },
  {
   "cell_type": "code",
   "execution_count": 5,
   "id": "c3c6e30b",
   "metadata": {},
   "outputs": [
    {
     "name": "stdout",
     "output_type": "stream",
     "text": [
      "Setting global seed: 42\n",
      "normalizing counts per cell\n",
      "    finished (0:00:01)\n",
      "normalizing counts per cell\n",
      "    finished (0:00:00)\n",
      "### Finding marker genes...\n",
      "ranking genes\n",
      "    finished: added to `.uns['rank_genes_groups']`\n",
      "    'names', sorted np.recarray to be indexed by group ids\n",
      "    'scores', sorted np.recarray to be indexed by group ids\n",
      "    'logfoldchanges', sorted np.recarray to be indexed by group ids\n",
      "    'pvals', sorted np.recarray to be indexed by group ids\n",
      "    'pvals_adj', sorted np.recarray to be indexed by group ids (0:00:13)\n",
      "celltype\n",
      "B-cells              200\n",
      "CAFs                 200\n",
      "Cancer Epithelial    200\n",
      "Endothelial          200\n",
      "Myeloid              200\n",
      "Normal Epithelial    200\n",
      "PVL                  200\n",
      "T-cells              200\n",
      "Name: count, dtype: int64\n",
      "### Used gene numbers: 1532\n",
      "### Initializing sample probability\n",
      "### Genetating simulated spatial data using scRNA data with mode: unbalance\n",
      "### Genetating simulated spatial data using scRNA data with mode: sqrt\n",
      "### Genetating simulated spatial data using scRNA data with mode: balance\n"
     ]
    }
   ],
   "source": [
    "spoint_model = Spoint.init_model(sc_ad,st_ad,celltype_key='celltype',deg_method='t-test',sm_size=100000,use_gpu=True)"
   ]
  },
  {
   "cell_type": "code",
   "execution_count": 6,
   "id": "6a61f07a",
   "metadata": {},
   "outputs": [
    {
     "name": "stderr",
     "output_type": "stream",
     "text": [
      "No GPU/TPU found, falling back to CPU. (Set TF_CPP_MIN_LOG_LEVEL=0 and rerun for more info.)\n",
      "GPU available: True (cuda), used: True\n",
      "TPU available: False, using: 0 TPU cores\n",
      "IPU available: False, using: 0 IPUs\n",
      "HPU available: False, using: 0 HPUs\n",
      "LOCAL_RANK: 0 - CUDA_VISIBLE_DEVICES: [0,1,2,3]\n"
     ]
    },
    {
     "name": "stdout",
     "output_type": "stream",
     "text": [
      "Epoch 100/100: 100%|███████████████████████████████████████████████████████████████████████████████████████████| 100/100 [01:41<00:00,  1.05s/it, loss=1.1e+03, v_num=1]"
     ]
    },
    {
     "name": "stderr",
     "output_type": "stream",
     "text": [
      "`Trainer.fit` stopped: `max_epochs=100` reached.\n"
     ]
    },
    {
     "name": "stdout",
     "output_type": "stream",
     "text": [
      "Epoch 100/100: 100%|███████████████████████████████████████████████████████████████████████████████████████████| 100/100 [01:41<00:00,  1.01s/it, loss=1.1e+03, v_num=1]\n"
     ]
    },
    {
     "name": "stderr",
     "output_type": "stream",
     "text": [
      "Step 5000: Test inference loss=-0.957: 100%|████████████████████████████████████████████████████████████████████████████████████████| 5000/5000 [28:02<00:00,  2.97it/s]\n"
     ]
    }
   ],
   "source": [
    "spoint_model.train(max_steps=5000, batch_size=1024)"
   ]
  },
  {
   "cell_type": "code",
   "execution_count": 7,
   "id": "5e711cdb",
   "metadata": {},
   "outputs": [],
   "source": [
    "pre = spoint_model.deconv_spatial()"
   ]
  },
  {
   "cell_type": "code",
   "execution_count": 8,
   "id": "4afc4c4c",
   "metadata": {},
   "outputs": [
    {
     "data": {
      "text/html": [
       "<div>\n",
       "<style scoped>\n",
       "    .dataframe tbody tr th:only-of-type {\n",
       "        vertical-align: middle;\n",
       "    }\n",
       "\n",
       "    .dataframe tbody tr th {\n",
       "        vertical-align: top;\n",
       "    }\n",
       "\n",
       "    .dataframe thead th {\n",
       "        text-align: right;\n",
       "    }\n",
       "</style>\n",
       "<table border=\"1\" class=\"dataframe\">\n",
       "  <thead>\n",
       "    <tr style=\"text-align: right;\">\n",
       "      <th></th>\n",
       "      <th>T-cells</th>\n",
       "      <th>CAFs</th>\n",
       "      <th>Normal Epithelial</th>\n",
       "      <th>Endothelial</th>\n",
       "      <th>PVL</th>\n",
       "      <th>Cancer Epithelial</th>\n",
       "      <th>Myeloid</th>\n",
       "      <th>B-cells</th>\n",
       "    </tr>\n",
       "  </thead>\n",
       "  <tbody>\n",
       "    <tr>\n",
       "      <th>AAACAAGTATCTCCCA-1</th>\n",
       "      <td>0.233064</td>\n",
       "      <td>0.282882</td>\n",
       "      <td>0.099184</td>\n",
       "      <td>0.062582</td>\n",
       "      <td>0.000000</td>\n",
       "      <td>0.000000</td>\n",
       "      <td>0.185919</td>\n",
       "      <td>0.128334</td>\n",
       "    </tr>\n",
       "    <tr>\n",
       "      <th>AAACACCAATAACTGC-1</th>\n",
       "      <td>0.053455</td>\n",
       "      <td>0.030229</td>\n",
       "      <td>0.000000</td>\n",
       "      <td>0.214020</td>\n",
       "      <td>0.134593</td>\n",
       "      <td>0.392615</td>\n",
       "      <td>0.164994</td>\n",
       "      <td>0.000000</td>\n",
       "    </tr>\n",
       "    <tr>\n",
       "      <th>AAACAGAGCGACTCCT-1</th>\n",
       "      <td>0.078407</td>\n",
       "      <td>0.208894</td>\n",
       "      <td>0.081844</td>\n",
       "      <td>0.128832</td>\n",
       "      <td>0.117009</td>\n",
       "      <td>0.081047</td>\n",
       "      <td>0.106765</td>\n",
       "      <td>0.197203</td>\n",
       "    </tr>\n",
       "    <tr>\n",
       "      <th>AAACAGGGTCTATATT-1</th>\n",
       "      <td>0.242454</td>\n",
       "      <td>0.147347</td>\n",
       "      <td>0.013032</td>\n",
       "      <td>0.090921</td>\n",
       "      <td>0.000000</td>\n",
       "      <td>0.000000</td>\n",
       "      <td>0.179752</td>\n",
       "      <td>0.325613</td>\n",
       "    </tr>\n",
       "    <tr>\n",
       "      <th>AAACAGTGTTCCTGGG-1</th>\n",
       "      <td>0.000000</td>\n",
       "      <td>0.309359</td>\n",
       "      <td>0.000000</td>\n",
       "      <td>0.210582</td>\n",
       "      <td>0.000000</td>\n",
       "      <td>0.312490</td>\n",
       "      <td>0.157917</td>\n",
       "      <td>0.000000</td>\n",
       "    </tr>\n",
       "    <tr>\n",
       "      <th>...</th>\n",
       "      <td>...</td>\n",
       "      <td>...</td>\n",
       "      <td>...</td>\n",
       "      <td>...</td>\n",
       "      <td>...</td>\n",
       "      <td>...</td>\n",
       "      <td>...</td>\n",
       "      <td>...</td>\n",
       "    </tr>\n",
       "    <tr>\n",
       "      <th>TTGTTGTGTGTCAAGA-1</th>\n",
       "      <td>0.059999</td>\n",
       "      <td>0.333702</td>\n",
       "      <td>0.000000</td>\n",
       "      <td>0.015403</td>\n",
       "      <td>0.000000</td>\n",
       "      <td>0.362640</td>\n",
       "      <td>0.209971</td>\n",
       "      <td>0.000000</td>\n",
       "    </tr>\n",
       "    <tr>\n",
       "      <th>TTGTTTCACATCCAGG-1</th>\n",
       "      <td>0.053427</td>\n",
       "      <td>0.233546</td>\n",
       "      <td>0.000000</td>\n",
       "      <td>0.024102</td>\n",
       "      <td>0.108724</td>\n",
       "      <td>0.231202</td>\n",
       "      <td>0.340189</td>\n",
       "      <td>0.000000</td>\n",
       "    </tr>\n",
       "    <tr>\n",
       "      <th>TTGTTTCATTAGTCTA-1</th>\n",
       "      <td>0.013918</td>\n",
       "      <td>0.176223</td>\n",
       "      <td>0.000000</td>\n",
       "      <td>0.243918</td>\n",
       "      <td>0.098602</td>\n",
       "      <td>0.314399</td>\n",
       "      <td>0.149185</td>\n",
       "      <td>0.000000</td>\n",
       "    </tr>\n",
       "    <tr>\n",
       "      <th>TTGTTTCCATACAACT-1</th>\n",
       "      <td>0.283598</td>\n",
       "      <td>0.303393</td>\n",
       "      <td>0.000000</td>\n",
       "      <td>0.123174</td>\n",
       "      <td>0.041805</td>\n",
       "      <td>0.116785</td>\n",
       "      <td>0.124410</td>\n",
       "      <td>0.000000</td>\n",
       "    </tr>\n",
       "    <tr>\n",
       "      <th>TTGTTTGTGTAAATTC-1</th>\n",
       "      <td>0.149316</td>\n",
       "      <td>0.014488</td>\n",
       "      <td>0.245465</td>\n",
       "      <td>0.000000</td>\n",
       "      <td>0.000000</td>\n",
       "      <td>0.389537</td>\n",
       "      <td>0.179288</td>\n",
       "      <td>0.011791</td>\n",
       "    </tr>\n",
       "  </tbody>\n",
       "</table>\n",
       "<p>3798 rows × 8 columns</p>\n",
       "</div>"
      ],
      "text/plain": [
       "                     T-cells      CAFs  Normal Epithelial  Endothelial  \\\n",
       "AAACAAGTATCTCCCA-1  0.233064  0.282882           0.099184     0.062582   \n",
       "AAACACCAATAACTGC-1  0.053455  0.030229           0.000000     0.214020   \n",
       "AAACAGAGCGACTCCT-1  0.078407  0.208894           0.081844     0.128832   \n",
       "AAACAGGGTCTATATT-1  0.242454  0.147347           0.013032     0.090921   \n",
       "AAACAGTGTTCCTGGG-1  0.000000  0.309359           0.000000     0.210582   \n",
       "...                      ...       ...                ...          ...   \n",
       "TTGTTGTGTGTCAAGA-1  0.059999  0.333702           0.000000     0.015403   \n",
       "TTGTTTCACATCCAGG-1  0.053427  0.233546           0.000000     0.024102   \n",
       "TTGTTTCATTAGTCTA-1  0.013918  0.176223           0.000000     0.243918   \n",
       "TTGTTTCCATACAACT-1  0.283598  0.303393           0.000000     0.123174   \n",
       "TTGTTTGTGTAAATTC-1  0.149316  0.014488           0.245465     0.000000   \n",
       "\n",
       "                         PVL  Cancer Epithelial   Myeloid   B-cells  \n",
       "AAACAAGTATCTCCCA-1  0.000000           0.000000  0.185919  0.128334  \n",
       "AAACACCAATAACTGC-1  0.134593           0.392615  0.164994  0.000000  \n",
       "AAACAGAGCGACTCCT-1  0.117009           0.081047  0.106765  0.197203  \n",
       "AAACAGGGTCTATATT-1  0.000000           0.000000  0.179752  0.325613  \n",
       "AAACAGTGTTCCTGGG-1  0.000000           0.312490  0.157917  0.000000  \n",
       "...                      ...                ...       ...       ...  \n",
       "TTGTTGTGTGTCAAGA-1  0.000000           0.362640  0.209971  0.000000  \n",
       "TTGTTTCACATCCAGG-1  0.108724           0.231202  0.340189  0.000000  \n",
       "TTGTTTCATTAGTCTA-1  0.098602           0.314399  0.149185  0.000000  \n",
       "TTGTTTCCATACAACT-1  0.041805           0.116785  0.124410  0.000000  \n",
       "TTGTTTGTGTAAATTC-1  0.000000           0.389537  0.179288  0.011791  \n",
       "\n",
       "[3798 rows x 8 columns]"
      ]
     },
     "execution_count": 8,
     "metadata": {},
     "output_type": "execute_result"
    }
   ],
   "source": [
    "pre"
   ]
  },
  {
   "cell_type": "code",
   "execution_count": 12,
   "id": "305748ad",
   "metadata": {},
   "outputs": [],
   "source": [
    "output_file_path = \"/home/comp/cszrwang/results/Deconvolution/results/Breast_1/SPACEL/\""
   ]
  },
  {
   "cell_type": "code",
   "execution_count": 13,
   "id": "f30893d3",
   "metadata": {},
   "outputs": [],
   "source": [
    "pre.to_csv(output_file_path + '/SPACEL_result.csv')"
   ]
  }
 ],
 "metadata": {
  "kernelspec": {
   "display_name": "SPACEL",
   "language": "python",
   "name": "spacel"
  },
  "language_info": {
   "codemirror_mode": {
    "name": "ipython",
    "version": 3
   },
   "file_extension": ".py",
   "mimetype": "text/x-python",
   "name": "python",
   "nbconvert_exporter": "python",
   "pygments_lexer": "ipython3",
   "version": "3.8.18"
  }
 },
 "nbformat": 4,
 "nbformat_minor": 5
}
