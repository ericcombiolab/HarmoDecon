{
 "cells": [
  {
   "cell_type": "code",
   "execution_count": 2,
   "id": "c0fdc79d",
   "metadata": {},
   "outputs": [],
   "source": [
    "# basic imports\n",
    "import pandas as pd\n",
    "import sys\n",
    "import numpy as np\n",
    "import pandas as pd\n",
    "import scanpy as sc\n",
    "\n",
    "# add `Tangram` to path\n",
    "import tangram as tg\n",
    "import os"
   ]
  },
  {
   "cell_type": "code",
   "execution_count": 3,
   "id": "5387bd74",
   "metadata": {},
   "outputs": [],
   "source": [
    "## setting for STARmap\n",
    "sc_file_path = \"/home/comp/cszrwang/data/Breast/spadecon/gm_input_sc.h5ad\"\n",
    "spatial_file_path = \"/home/comp/cszrwang/data/Breast/spadecon/gm_input_st.h5ad\"\n",
    "celltype_key = 'celltype'\n",
    "output_file_path = \"/home/comp/cszrwang/results/Deconvolution/results/Breast_1/Tangram/\"\n",
    "if not os.path.exists(output_file_path):\n",
    "    os.mkdir(output_file_path)"
   ]
  },
  {
   "cell_type": "code",
   "execution_count": 4,
   "id": "3796f39d",
   "metadata": {},
   "outputs": [
    {
     "name": "stdout",
     "output_type": "stream",
     "text": [
      "Drop celltype [] contain less 2 sample\n",
      "WARNING: Default of the method has been changed to 't-test' from 't-test_overestim_var'\n",
      "      B-cells    CAFs Cancer Epithelial Endothelial   Myeloid  \\\n",
      "0        CD74  LGALS1            NDUFB9      IFITM3      CD74   \n",
      "1     HLA-DRA     BGN             MIEN1       NPDC1  HLA-DPB1   \n",
      "2    HLA-DPA1    CD63             EIF3H       CRIP2   HLA-DRA   \n",
      "3        CD37    PPIB            SPINT2       RAMP2  HLA-DPA1   \n",
      "4       MS4A1     DCN            MRPL13      IGFBP7    TYROBP   \n",
      "..        ...     ...               ...         ...       ...   \n",
      "195     RPS12  DPYSL3              RBX1       NUCB1      NAIP   \n",
      "196     PLCG2   SULF1              MSL1       PREX2  HLA-DQB2   \n",
      "197   RNASET2   SERF2             CPNE3      NOTCH4    SLC8A1   \n",
      "198      PKIG     GEM              RPS5        MYH9    CCL4L2   \n",
      "199    RPL37A    FRZB             FOXA1        SELE    ABHD12   \n",
      "\n",
      "    Normal Epithelial       PVL T-cells  \n",
      "0                PERP    IGFBP7    SRGN  \n",
      "1                RPL8     CALD1    CD3E  \n",
      "2             TACSTD2    IFITM3   RPS27  \n",
      "3              SPINT2  NDUFA4L2    BTG1  \n",
      "4               FXYD3      CAV1     B2M  \n",
      "..                ...       ...     ...  \n",
      "195             TRPS1      TCF4   YWHAZ  \n",
      "196          C6orf132      CLMN    RHOF  \n",
      "197              COMT      YBX3  CLEC2B  \n",
      "198             CHPT1      MT1M   RPS15  \n",
      "199             RCAN1      DLC1    CD28  \n",
      "\n",
      "[200 rows x 8 columns]\n",
      "['A2M' 'ABHD12' 'ABL2' ... 'ZNF652' 'ZNF683' 'ZNF706']\n"
     ]
    }
   ],
   "source": [
    "ad_sc = sc.read_h5ad(sc_file_path)\n",
    "ad_sp = sc.read_h5ad(spatial_file_path)\n",
    "\n",
    "# use raw count both of scrna and spatial\n",
    "sc.pp.normalize_total(ad_sc)\n",
    "celltype_counts = ad_sc.obs[celltype_key].value_counts()\n",
    "celltype_drop = celltype_counts.index[celltype_counts < 2]\n",
    "print(f'Drop celltype {list(celltype_drop)} contain less 2 sample')\n",
    "ad_sc = ad_sc[~ad_sc.obs[celltype_key].isin(celltype_drop),].copy()\n",
    "sc.tl.rank_genes_groups(ad_sc, groupby=celltype_key, use_raw=False)\n",
    "markers_df = pd.DataFrame(ad_sc.uns[\"rank_genes_groups\"][\"names\"]).iloc[0:200, :]\n",
    "print(markers_df)\n",
    "genes_sc = np.unique(markers_df.melt().value.values)\n",
    "print(genes_sc)\n",
    "genes_st = ad_sp.var_names.values\n",
    "genes = list(set(genes_sc).intersection(set(genes_st)))"
   ]
  },
  {
   "cell_type": "code",
   "execution_count": 5,
   "id": "c60e0506",
   "metadata": {},
   "outputs": [
    {
     "name": "stderr",
     "output_type": "stream",
     "text": [
      "INFO:root:1290 training genes are saved in `uns``training_genes` of both single cell and spatial Anndatas.\n",
      "INFO:root:17172 overlapped genes are saved in `uns``overlap_genes` of both single cell and spatial Anndatas.\n",
      "INFO:root:uniform based density prior is calculated and saved in `obs``uniform_density` of the spatial Anndata.\n",
      "INFO:root:rna count based density prior is calculated and saved in `obs``rna_count_based_density` of the spatial Anndata.\n",
      "INFO:root:Allocate tensors for mapping.\n",
      "INFO:root:Begin training with 1290 genes and rna_count_based density_prior in clusters mode...\n",
      "INFO:root:Printing scores every 100 epochs.\n"
     ]
    },
    {
     "name": "stdout",
     "output_type": "stream",
     "text": [
      "Score: 0.450, KL reg: 0.403\n",
      "Score: 0.703, KL reg: 0.001\n",
      "Score: 0.703, KL reg: 0.001\n",
      "Score: 0.704, KL reg: 0.001\n",
      "Score: 0.704, KL reg: 0.001\n",
      "Score: 0.704, KL reg: 0.001\n",
      "Score: 0.704, KL reg: 0.001\n",
      "Score: 0.704, KL reg: 0.001\n",
      "Score: 0.704, KL reg: 0.001\n",
      "Score: 0.704, KL reg: 0.001\n"
     ]
    },
    {
     "name": "stderr",
     "output_type": "stream",
     "text": [
      "INFO:root:Saving results..\n",
      "INFO:root:spatial prediction dataframe is saved in `obsm` `tangram_ct_pred` of the spatial AnnData.\n"
     ]
    }
   ],
   "source": [
    "tg.pp_adatas(ad_sc, ad_sp, genes=genes)\n",
    "\n",
    "ad_map = tg.map_cells_to_space(\n",
    "                   ad_sc,\n",
    "                   ad_sp,\n",
    "                   mode='clusters',\n",
    "                   cluster_label=celltype_key)\n",
    "\n",
    "# ad_map = tg.map_cells_to_space(\n",
    "#                    ad_sc,\n",
    "#                    ad_sp,\n",
    "#                    mode=\"constrained\",\n",
    "#                    target_count=ad_sp.obs.cell_count.sum(),\n",
    "#                    density_prior=np.array(ad_sp.obs.cell_count) / ad_sp.obs.cell_count.sum(),\n",
    "#                    num_epochs=1000,\n",
    "#                    cluster_label=celltype_key)\n",
    "\n",
    "tg.project_cell_annotations(ad_map, ad_sp, annotation=celltype_key)\n",
    "\n",
    "celltype_density = ad_sp.obsm['tangram_ct_pred']\n",
    "celltype_density = (celltype_density.T/celltype_density.sum(axis=1)).T\n",
    "\n",
    "celltype_density.to_csv(output_file_path + '/Tangram_result.csv')"
   ]
  }
 ],
 "metadata": {
  "kernelspec": {
   "display_name": "dl_transformers",
   "language": "python",
   "name": "dl_transformers"
  },
  "language_info": {
   "codemirror_mode": {
    "name": "ipython",
    "version": 3
   },
   "file_extension": ".py",
   "mimetype": "text/x-python",
   "name": "python",
   "nbconvert_exporter": "python",
   "pygments_lexer": "ipython3",
   "version": "3.9.2"
  }
 },
 "nbformat": 4,
 "nbformat_minor": 5
}
